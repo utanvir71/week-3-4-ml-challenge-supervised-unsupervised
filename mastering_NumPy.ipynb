{
 "cells": [
  {
   "cell_type": "markdown",
   "id": "4d3f4309",
   "metadata": {},
   "source": [
    "# <b>PART 1: The Basics of Numpy Array</b>"
   ]
  },
  {
   "cell_type": "markdown",
   "id": "cd52193c",
   "metadata": {},
   "source": [
    "## Numpy Array Attributes\n"
   ]
  },
  {
   "cell_type": "code",
   "execution_count": 107,
   "id": "5ab58a82",
   "metadata": {},
   "outputs": [],
   "source": [
    "import numpy as np\n",
    "rng = np.random.default_rng(seed = 1701)\n",
    "\n",
    "x1 = rng.integers(10, size=6) #one dimantional\n",
    "x2 = rng.integers(10, size=(3,4)) #two dimantional\n",
    "x3 = rng.integers(10, size=(3,4,5)) #three dimantional"
   ]
  },
  {
   "cell_type": "code",
   "execution_count": 108,
   "id": "9e44e867",
   "metadata": {},
   "outputs": [
    {
     "name": "stdout",
     "output_type": "stream",
     "text": [
      "x3 is 3 dimantional array\n",
      "x3 shape = (3, 4, 5)\n",
      "x3 size = 60\n",
      "x3 dtype = int64\n",
      "\n",
      "x3: \n",
      "[[[4 3 5 5 0]\n",
      "  [8 3 5 2 2]\n",
      "  [1 8 8 5 3]\n",
      "  [0 0 8 5 8]]\n",
      "\n",
      " [[5 1 6 2 3]\n",
      "  [1 2 5 6 2]\n",
      "  [5 2 7 9 3]\n",
      "  [5 6 0 2 0]]\n",
      "\n",
      " [[2 9 4 3 9]\n",
      "  [9 2 2 4 0]\n",
      "  [0 3 0 0 2]\n",
      "  [3 2 7 4 7]]]\n"
     ]
    }
   ],
   "source": [
    "print(f\"x3 is {x3.ndim} dimantional array\")\n",
    "print(f\"x3 shape = {x3.shape}\")\n",
    "print(f\"x3 size = {x3.size}\")\n",
    "print(f\"x3 dtype = {x3.dtype}\")\n",
    "print(f\"\\nx3: \\n{x3}\")"
   ]
  },
  {
   "cell_type": "markdown",
   "id": "e03f06fd",
   "metadata": {},
   "source": [
    "## Array Indexing: Accessing Single Elements"
   ]
  },
  {
   "cell_type": "code",
   "execution_count": 109,
   "id": "96fd355b",
   "metadata": {},
   "outputs": [
    {
     "data": {
      "text/plain": [
       "array([9, 4, 0, 3, 8, 6])"
      ]
     },
     "execution_count": 109,
     "metadata": {},
     "output_type": "execute_result"
    }
   ],
   "source": [
    "x1"
   ]
  },
  {
   "cell_type": "code",
   "execution_count": 110,
   "id": "35b1fad6",
   "metadata": {},
   "outputs": [
    {
     "data": {
      "text/plain": [
       "9"
      ]
     },
     "execution_count": 110,
     "metadata": {},
     "output_type": "execute_result"
    }
   ],
   "source": [
    "x1[0]"
   ]
  },
  {
   "cell_type": "code",
   "execution_count": 111,
   "id": "a099aef9",
   "metadata": {},
   "outputs": [
    {
     "data": {
      "text/plain": [
       "8"
      ]
     },
     "execution_count": 111,
     "metadata": {},
     "output_type": "execute_result"
    }
   ],
   "source": [
    "x1[4]"
   ]
  },
  {
   "cell_type": "code",
   "execution_count": 112,
   "id": "6f0e6a6f",
   "metadata": {},
   "outputs": [
    {
     "data": {
      "text/plain": [
       "8"
      ]
     },
     "execution_count": 112,
     "metadata": {},
     "output_type": "execute_result"
    }
   ],
   "source": [
    "x1[-2]"
   ]
  },
  {
   "cell_type": "markdown",
   "id": "16515878",
   "metadata": {},
   "source": [
    "## Array Slicing: Accesing Subarrays\n",
    "<b><i>x[start:stop:step]</i></b>"
   ]
  },
  {
   "cell_type": "markdown",
   "id": "97b1e7fa",
   "metadata": {},
   "source": [
    "One dimantional Subarrays"
   ]
  },
  {
   "cell_type": "code",
   "execution_count": 113,
   "id": "17838032",
   "metadata": {},
   "outputs": [
    {
     "data": {
      "text/plain": [
       "array([9, 4, 0, 3, 8, 6])"
      ]
     },
     "execution_count": 113,
     "metadata": {},
     "output_type": "execute_result"
    }
   ],
   "source": [
    "x1"
   ]
  },
  {
   "cell_type": "code",
   "execution_count": 114,
   "id": "915abd0b",
   "metadata": {},
   "outputs": [
    {
     "data": {
      "text/plain": [
       "array([9, 4, 0])"
      ]
     },
     "execution_count": 114,
     "metadata": {},
     "output_type": "execute_result"
    }
   ],
   "source": [
    "x1[:3] #first three elements"
   ]
  },
  {
   "cell_type": "code",
   "execution_count": 115,
   "id": "a4e24cbe",
   "metadata": {},
   "outputs": [
    {
     "data": {
      "text/plain": [
       "array([3, 8, 6])"
      ]
     },
     "execution_count": 115,
     "metadata": {},
     "output_type": "execute_result"
    }
   ],
   "source": [
    "x1[3:] #elements from index 3"
   ]
  },
  {
   "cell_type": "code",
   "execution_count": 116,
   "id": "cfa802ba",
   "metadata": {},
   "outputs": [
    {
     "data": {
      "text/plain": [
       "array([4, 0, 3])"
      ]
     },
     "execution_count": 116,
     "metadata": {},
     "output_type": "execute_result"
    }
   ],
   "source": [
    "x1[1:4] # from index 1 to 3"
   ]
  },
  {
   "cell_type": "code",
   "execution_count": 117,
   "id": "ea1ceaa3",
   "metadata": {},
   "outputs": [
    {
     "data": {
      "text/plain": [
       "array([9, 0, 8])"
      ]
     },
     "execution_count": 117,
     "metadata": {},
     "output_type": "execute_result"
    }
   ],
   "source": [
    "x1[::2] # every second element"
   ]
  },
  {
   "cell_type": "code",
   "execution_count": 118,
   "id": "7b85f20f",
   "metadata": {},
   "outputs": [
    {
     "data": {
      "text/plain": [
       "array([6, 8, 3, 0, 4, 9])"
      ]
     },
     "execution_count": 118,
     "metadata": {},
     "output_type": "execute_result"
    }
   ],
   "source": [
    "x1[::-1] # all elements, reveresed"
   ]
  },
  {
   "cell_type": "code",
   "execution_count": 119,
   "id": "76934fc7",
   "metadata": {},
   "outputs": [
    {
     "data": {
      "text/plain": [
       "array([8, 0, 9])"
      ]
     },
     "execution_count": 119,
     "metadata": {},
     "output_type": "execute_result"
    }
   ],
   "source": [
    "x1[4::-2] # every second elements from index 4, reversed"
   ]
  },
  {
   "cell_type": "markdown",
   "id": "326a8bdf",
   "metadata": {},
   "source": [
    "Multidimensional Subarrays"
   ]
  },
  {
   "cell_type": "code",
   "execution_count": 120,
   "id": "fe980a91",
   "metadata": {},
   "outputs": [
    {
     "data": {
      "text/plain": [
       "array([[3, 1, 3, 7],\n",
       "       [4, 0, 2, 3],\n",
       "       [0, 0, 6, 9]])"
      ]
     },
     "execution_count": 120,
     "metadata": {},
     "output_type": "execute_result"
    }
   ],
   "source": [
    "x2"
   ]
  },
  {
   "cell_type": "code",
   "execution_count": 121,
   "id": "0266b2b0",
   "metadata": {},
   "outputs": [
    {
     "data": {
      "text/plain": [
       "array([[3, 1, 3],\n",
       "       [4, 0, 2]])"
      ]
     },
     "execution_count": 121,
     "metadata": {},
     "output_type": "execute_result"
    }
   ],
   "source": [
    "x2[:2, :3] #first two rows and tree columns"
   ]
  },
  {
   "cell_type": "code",
   "execution_count": 122,
   "id": "601e69cd",
   "metadata": {},
   "outputs": [
    {
     "data": {
      "text/plain": [
       "array([[3, 3],\n",
       "       [4, 2],\n",
       "       [0, 6]])"
      ]
     },
     "execution_count": 122,
     "metadata": {},
     "output_type": "execute_result"
    }
   ],
   "source": [
    "x2[:3, ::2] # first 3 rows, every second column"
   ]
  },
  {
   "cell_type": "code",
   "execution_count": 123,
   "id": "3f0addf5",
   "metadata": {},
   "outputs": [
    {
     "data": {
      "text/plain": [
       "array([[9, 6, 0, 0],\n",
       "       [3, 2, 0, 4],\n",
       "       [7, 3, 1, 3]])"
      ]
     },
     "execution_count": 123,
     "metadata": {},
     "output_type": "execute_result"
    }
   ],
   "source": [
    "x2[::-1, ::-1,] # all rows and columns, reveresed"
   ]
  },
  {
   "cell_type": "code",
   "execution_count": 124,
   "id": "efa88891",
   "metadata": {},
   "outputs": [
    {
     "data": {
      "text/plain": [
       "array([3, 4, 0])"
      ]
     },
     "execution_count": 124,
     "metadata": {},
     "output_type": "execute_result"
    }
   ],
   "source": [
    "x2[:, 0] # first column of x2"
   ]
  },
  {
   "cell_type": "code",
   "execution_count": 125,
   "id": "e7c6fbb6",
   "metadata": {},
   "outputs": [
    {
     "data": {
      "text/plain": [
       "array([3, 1, 3, 7])"
      ]
     },
     "execution_count": 125,
     "metadata": {},
     "output_type": "execute_result"
    }
   ],
   "source": [
    "x2[0,:] # first row of x2"
   ]
  },
  {
   "cell_type": "code",
   "execution_count": 126,
   "id": "c771f700",
   "metadata": {},
   "outputs": [
    {
     "data": {
      "text/plain": [
       "array([3, 1, 3, 7])"
      ]
     },
     "execution_count": 126,
     "metadata": {},
     "output_type": "execute_result"
    }
   ],
   "source": [
    "x2[0] #same: first row of x2"
   ]
  },
  {
   "cell_type": "markdown",
   "id": "038a5f6e",
   "metadata": {},
   "source": [
    "<b> Subarrays as no-copy Views</b>\n",
    "<br>Unlike Python list slices, NumPy array slices are returned as views rather than copies\n",
    "of the array data. Consider our two-dimensional array from before:"
   ]
  },
  {
   "cell_type": "code",
   "execution_count": 127,
   "id": "0628d02d",
   "metadata": {},
   "outputs": [
    {
     "name": "stdout",
     "output_type": "stream",
     "text": [
      "[[3 1 3 7]\n",
      " [4 0 2 3]\n",
      " [0 0 6 9]]\n"
     ]
    }
   ],
   "source": [
    "print(x2)"
   ]
  },
  {
   "cell_type": "markdown",
   "id": "711d2054",
   "metadata": {},
   "source": [
    "Let's extracrt a 2x2 subarray from this:"
   ]
  },
  {
   "cell_type": "code",
   "execution_count": 128,
   "id": "d747aa55",
   "metadata": {},
   "outputs": [
    {
     "name": "stdout",
     "output_type": "stream",
     "text": [
      "[[3 1]\n",
      " [4 0]]\n"
     ]
    }
   ],
   "source": [
    "x2_sub = x2[:2,:2]\n",
    "print(x2_sub)"
   ]
  },
  {
   "cell_type": "markdown",
   "id": "9f156f60",
   "metadata": {},
   "source": [
    "Now if we modify this subarray, we'll see that the original array is changed! Observe:"
   ]
  },
  {
   "cell_type": "code",
   "execution_count": 129,
   "id": "78334850",
   "metadata": {},
   "outputs": [
    {
     "data": {
      "text/plain": [
       "array([[99,  1],\n",
       "       [ 4,  0]])"
      ]
     },
     "execution_count": 129,
     "metadata": {},
     "output_type": "execute_result"
    }
   ],
   "source": [
    "x2_sub[0,0] = 99\n",
    "x2_sub"
   ]
  },
  {
   "cell_type": "code",
   "execution_count": 130,
   "id": "88fa3a73",
   "metadata": {},
   "outputs": [
    {
     "name": "stdout",
     "output_type": "stream",
     "text": [
      "[[99  1  3  7]\n",
      " [ 4  0  2  3]\n",
      " [ 0  0  6  9]]\n"
     ]
    }
   ],
   "source": [
    "print(x2)"
   ]
  },
  {
   "cell_type": "markdown",
   "id": "0c604bfa",
   "metadata": {},
   "source": [
    "<b>Creating Copies of Arrays</b>\n",
    "<br>\n",
    "Despite the features of array views, it's sometimes usefull to insted explicity copy the data within an or subarray. This easiest to do with the <b>copy</b> method:"
   ]
  },
  {
   "cell_type": "code",
   "execution_count": 131,
   "id": "9ac0ea15",
   "metadata": {},
   "outputs": [
    {
     "data": {
      "text/plain": [
       "array([[99,  1],\n",
       "       [ 4,  0]])"
      ]
     },
     "execution_count": 131,
     "metadata": {},
     "output_type": "execute_result"
    }
   ],
   "source": [
    "x2_sub_copy = x2[:2, :2].copy()\n",
    "x2_sub_copy"
   ]
  },
  {
   "cell_type": "code",
   "execution_count": 132,
   "id": "36fbd019",
   "metadata": {},
   "outputs": [
    {
     "name": "stdout",
     "output_type": "stream",
     "text": [
      "[[42  1]\n",
      " [ 4  0]]\n"
     ]
    }
   ],
   "source": [
    "x2_sub_copy[0,0] = 42\n",
    "print(x2_sub_copy)"
   ]
  },
  {
   "cell_type": "code",
   "execution_count": 133,
   "id": "df5dc5e3",
   "metadata": {},
   "outputs": [
    {
     "name": "stdout",
     "output_type": "stream",
     "text": [
      "[[99  1  3  7]\n",
      " [ 4  0  2  3]\n",
      " [ 0  0  6  9]]\n"
     ]
    }
   ],
   "source": [
    "print(x2)"
   ]
  },
  {
   "cell_type": "markdown",
   "id": "4ba16c71",
   "metadata": {},
   "source": [
    "## Reshaping of Arrays"
   ]
  },
  {
   "cell_type": "markdown",
   "id": "7012415e",
   "metadata": {},
   "source": [
    "Another useful type of operation is <B>reshaping</B> of arrays, which can be done with the reshape method. For example if you want to put the numbers 1 though 9 in a 3x3 grid, you can do the following:"
   ]
  },
  {
   "cell_type": "code",
   "execution_count": 134,
   "id": "cc0c783a",
   "metadata": {},
   "outputs": [
    {
     "name": "stdout",
     "output_type": "stream",
     "text": [
      "[[1 2 3]\n",
      " [4 5 6]\n",
      " [7 8 9]]\n"
     ]
    }
   ],
   "source": [
    "grid = np.arange(1,10).reshape(3,3)\n",
    "print(grid)"
   ]
  },
  {
   "cell_type": "markdown",
   "id": "10f8ae93",
   "metadata": {},
   "source": [
    "Note that for this to work, the size of the initial array must match the size of the reshaped array, and in most cases the reshape method will return a no-copy vew of the iniial array.<br>\n",
    "A common reshaping operation is converting a one-dimenstional array into a two dimensional row of columns matrix:"
   ]
  },
  {
   "cell_type": "code",
   "execution_count": 135,
   "id": "36d736c5",
   "metadata": {},
   "outputs": [
    {
     "data": {
      "text/plain": [
       "array([[1, 2, 3]])"
      ]
     },
     "execution_count": 135,
     "metadata": {},
     "output_type": "execute_result"
    }
   ],
   "source": [
    "x = np.array([1, 2, 3])\n",
    "x.reshape(1,3) # row vector via reshape"
   ]
  },
  {
   "cell_type": "code",
   "execution_count": 136,
   "id": "7b374bad",
   "metadata": {},
   "outputs": [
    {
     "data": {
      "text/plain": [
       "array([[1],\n",
       "       [2],\n",
       "       [3]])"
      ]
     },
     "execution_count": 136,
     "metadata": {},
     "output_type": "execute_result"
    }
   ],
   "source": [
    "x.reshape((3,1)) # column vector via reshape"
   ]
  },
  {
   "cell_type": "markdown",
   "id": "7608fb17",
   "metadata": {},
   "source": [
    "A convenient shorthand for this to use <b>np.newaxis</b> in the slicing syntax:"
   ]
  },
  {
   "cell_type": "code",
   "execution_count": 137,
   "id": "6c1052b7",
   "metadata": {},
   "outputs": [
    {
     "data": {
      "text/plain": [
       "array([1, 2, 3])"
      ]
     },
     "execution_count": 137,
     "metadata": {},
     "output_type": "execute_result"
    }
   ],
   "source": [
    "x[np.newaxis: ] #row vector via newaxix"
   ]
  },
  {
   "cell_type": "code",
   "execution_count": 138,
   "id": "f83d3ad9",
   "metadata": {},
   "outputs": [
    {
     "data": {
      "text/plain": [
       "array([[1],\n",
       "       [2],\n",
       "       [3]])"
      ]
     },
     "execution_count": 138,
     "metadata": {},
     "output_type": "execute_result"
    }
   ],
   "source": [
    "x[:, np.newaxis] #column vector via newaxis"
   ]
  },
  {
   "cell_type": "markdown",
   "id": "0c7d7133",
   "metadata": {},
   "source": [
    "## Array Concatenation and splitting\n",
    "<br>\n",
    "All of the preceding routines worked on single arrays. Numpy also provied tools to combine multiple arrays into one, and to conversely split a single array into multiple arrays"
   ]
  },
  {
   "cell_type": "markdown",
   "id": "7bf955da",
   "metadata": {},
   "source": [
    "<b>Concatenation of Arrays</b>"
   ]
  },
  {
   "cell_type": "markdown",
   "id": "26ab5e33",
   "metadata": {},
   "source": [
    "Concatenation, or joining of two arrays in Numpy, is primairly accomplised using the routines <b> np.concatenate</b>, <b>np.vstack,</b>, and <b>np.hstack</b>. <b>np.concatenate</b> takes a tuple or list of arrays as its first argument, as you can see here:"
   ]
  },
  {
   "cell_type": "code",
   "execution_count": 139,
   "id": "5bfecd17",
   "metadata": {},
   "outputs": [
    {
     "data": {
      "text/plain": [
       "array([1, 2, 3, 3, 2, 1])"
      ]
     },
     "execution_count": 139,
     "metadata": {},
     "output_type": "execute_result"
    }
   ],
   "source": [
    "x = np.array([1,2,3])\n",
    "y = np.array([3,2,1])\n",
    "np.concatenate([x,y])"
   ]
  },
  {
   "cell_type": "markdown",
   "id": "1ab18a63",
   "metadata": {},
   "source": [
    "you can also concatenate more than two arrays at once:"
   ]
  },
  {
   "cell_type": "code",
   "execution_count": 140,
   "id": "81aa3086",
   "metadata": {},
   "outputs": [
    {
     "name": "stdout",
     "output_type": "stream",
     "text": [
      "[ 1  2  3  3  2  1 99 99 99]\n"
     ]
    }
   ],
   "source": [
    "z = np.array([99, 99, 99])\n",
    "print(np.concatenate([x,y,z]))"
   ]
  },
  {
   "cell_type": "markdown",
   "id": "81a5be70",
   "metadata": {},
   "source": [
    "And it can be used for two dimensional arrays:"
   ]
  },
  {
   "cell_type": "code",
   "execution_count": 141,
   "id": "477a3cce",
   "metadata": {},
   "outputs": [],
   "source": [
    "grid = np.array([[1,2,3],\n",
    "                 [4,5,6]])"
   ]
  },
  {
   "cell_type": "code",
   "execution_count": 142,
   "id": "b4e3468c",
   "metadata": {},
   "outputs": [
    {
     "data": {
      "text/plain": [
       "array([[1, 2, 3],\n",
       "       [4, 5, 6],\n",
       "       [1, 2, 3],\n",
       "       [4, 5, 6]])"
      ]
     },
     "execution_count": 142,
     "metadata": {},
     "output_type": "execute_result"
    }
   ],
   "source": [
    "# concatenate along the first axis\n",
    "np.concatenate([grid, grid])"
   ]
  },
  {
   "cell_type": "code",
   "execution_count": 143,
   "id": "ab2148e5",
   "metadata": {},
   "outputs": [
    {
     "data": {
      "text/plain": [
       "array([[1, 2, 3, 1, 2, 3],\n",
       "       [4, 5, 6, 4, 5, 6]])"
      ]
     },
     "execution_count": 143,
     "metadata": {},
     "output_type": "execute_result"
    }
   ],
   "source": [
    "# concatenate along the second axis (zero-indexed)\n",
    "np.concatenate([grid, grid], axis = 1)"
   ]
  },
  {
   "cell_type": "markdown",
   "id": "5886c17a",
   "metadata": {},
   "source": [
    "For working with arrays of mixed dimations, it can be clearer to use the <b>np.vstack</b> (vertial stack) and <b>np.hstack</b> (horizontal stack) funcions:"
   ]
  },
  {
   "cell_type": "code",
   "execution_count": 144,
   "id": "220cee9a",
   "metadata": {},
   "outputs": [
    {
     "data": {
      "text/plain": [
       "array([[1, 2, 3],\n",
       "       [1, 2, 3],\n",
       "       [4, 5, 6]])"
      ]
     },
     "execution_count": 144,
     "metadata": {},
     "output_type": "execute_result"
    }
   ],
   "source": [
    "# vertically stack the arrays\n",
    "np.vstack([x,grid])"
   ]
  },
  {
   "cell_type": "code",
   "execution_count": 145,
   "id": "4b1e5f49",
   "metadata": {},
   "outputs": [
    {
     "data": {
      "text/plain": [
       "array([[ 1,  2,  3, 99],\n",
       "       [ 4,  5,  6, 99]])"
      ]
     },
     "execution_count": 145,
     "metadata": {},
     "output_type": "execute_result"
    }
   ],
   "source": [
    "# horizontally stack the arrays\n",
    "y = np.array([[99],\n",
    "             [99]])\n",
    "np.hstack([grid,y])"
   ]
  },
  {
   "cell_type": "markdown",
   "id": "013a6287",
   "metadata": {},
   "source": [
    "Similarly, for higher-dimensional arrays, <b> np.dstack </b> will stack arrays along the third axis."
   ]
  },
  {
   "cell_type": "markdown",
   "id": "a0521876",
   "metadata": {},
   "source": [
    "<b>Splitting of Arrays<b>"
   ]
  },
  {
   "cell_type": "markdown",
   "id": "ed601e79",
   "metadata": {},
   "source": [
    "The opposite of concatenation is splitting, which is implemented by the funcions <b>np.split, bp.hsplit</b>, and <b> np.vsplit</b>. For each of these, we can pass a list of indices giving the split points:"
   ]
  },
  {
   "cell_type": "code",
   "execution_count": 146,
   "id": "a2ca2e32",
   "metadata": {},
   "outputs": [
    {
     "name": "stdout",
     "output_type": "stream",
     "text": [
      "[1 2 3] [4 5] [6 7 8 9]\n"
     ]
    }
   ],
   "source": [
    "x = [1,2,3,4,5,6,7,8,9]\n",
    "x1, x2, x3 = np.split(x, [3,5]) # The array will first split before index '3' then split before index '5'\n",
    "print(x1,x2,x3)"
   ]
  },
  {
   "cell_type": "markdown",
   "id": "6d8aea97",
   "metadata": {},
   "source": [
    "Notice that N split points leads to N+1 subarrays. The related functions np.hsplit and np.vsplitare similar:"
   ]
  },
  {
   "cell_type": "code",
   "execution_count": 147,
   "id": "9e070a3e",
   "metadata": {},
   "outputs": [
    {
     "data": {
      "text/plain": [
       "array([[ 0,  1,  2,  3],\n",
       "       [ 4,  5,  6,  7],\n",
       "       [ 8,  9, 10, 11],\n",
       "       [12, 13, 14, 15]])"
      ]
     },
     "execution_count": 147,
     "metadata": {},
     "output_type": "execute_result"
    }
   ],
   "source": [
    "grid = np.arange(16). reshape((4,4))\n",
    "grid"
   ]
  },
  {
   "cell_type": "code",
   "execution_count": 148,
   "id": "eebe2a21",
   "metadata": {},
   "outputs": [
    {
     "data": {
      "text/plain": [
       "(array([[0, 1, 2, 3],\n",
       "        [4, 5, 6, 7]]),\n",
       " array([[ 8,  9, 10, 11],\n",
       "        [12, 13, 14, 15]]))"
      ]
     },
     "execution_count": 148,
     "metadata": {},
     "output_type": "execute_result"
    }
   ],
   "source": [
    "upper, lower = np.vsplit(grid, [2])\n",
    "upper, lower"
   ]
  },
  {
   "cell_type": "code",
   "execution_count": 149,
   "id": "79cce1a9",
   "metadata": {},
   "outputs": [
    {
     "data": {
      "text/plain": [
       "(array([[ 0,  1],\n",
       "        [ 4,  5],\n",
       "        [ 8,  9],\n",
       "        [12, 13]]),\n",
       " array([[ 2,  3],\n",
       "        [ 6,  7],\n",
       "        [10, 11],\n",
       "        [14, 15]]))"
      ]
     },
     "execution_count": 149,
     "metadata": {},
     "output_type": "execute_result"
    }
   ],
   "source": [
    "left, right = np.hsplit(grid, [2])\n",
    "left, right"
   ]
  },
  {
   "cell_type": "markdown",
   "id": "c9b4b43f",
   "metadata": {},
   "source": [
    "# <b>PART 2: Computation on Numpy Arrays: Universal Funcions"
   ]
  },
  {
   "cell_type": "markdown",
   "id": "8fb860f5",
   "metadata": {},
   "source": [
    "## The Slowness of Loops"
   ]
  },
  {
   "cell_type": "markdown",
   "id": "4ddf48cf",
   "metadata": {},
   "source": [
    "Python’s default implementation (known as CPython) does some operations very\n",
    "slowly. This is partly due to the dynamic, interpreted nature of the language; types are\n",
    "flexible, so sequences of operations cannot be compiled down to efficient machine\n",
    "code as in languages like C and Fortran. Recently there have been various attempts to\n",
    "address this weakness: well-known examples are the <b>PyPy project</b>, a just-in-time\n",
    "compiled implementation of Python; the <b>Cython project</b>, which converts Python\n",
    "code to compilable C code; and the <b>Numba project</b>, which converts snippets of\n",
    "Python code to fast LLVM bytecode. Each of these has its strengths and weaknesses,\n",
    "but it is safe to say that none of the three approaches has yet surpassed the reach and\n",
    "popularity of the standard CPython engine.\n",
    "<br>The relative sluggishness of Python generally manifests itself in situations where\n",
    "many small operations are being repeated; for instance, looping over arrays to operate\n",
    "on each element. For example, imagine we have an array of values and we’d like to\n",
    "compute the reciprocal of each. A straightforward approach might look like this:"
   ]
  },
  {
   "cell_type": "code",
   "execution_count": 150,
   "id": "90f063dd",
   "metadata": {},
   "outputs": [
    {
     "data": {
      "text/plain": [
       "array([0.11111111, 0.25      , 1.        , 0.33333333, 0.125     ])"
      ]
     },
     "execution_count": 150,
     "metadata": {},
     "output_type": "execute_result"
    }
   ],
   "source": [
    "import numpy as np\n",
    "rng = np.random.default_rng(seed = 1701)\n",
    "\n",
    "def compute_reciprocals(values):\n",
    "    output = np.empty(len(values))\n",
    "    for i in range(len(values)):\n",
    "        output[i] = 1.0 / values[i]\n",
    "    return output\n",
    "\n",
    "values = rng.integers(1,10,size=5)\n",
    "compute_reciprocals(values)"
   ]
  },
  {
   "cell_type": "markdown",
   "id": "d781a84e",
   "metadata": {},
   "source": [
    "This implementation probably feels fairly natural to someone from, say, a C or Java\n",
    "background. But if we measure the execution time of this code for a large input, we\n",
    "see that this operation is very slow—perhaps surprisingly so! We’ll benchmark this\n",
    "with IPython’s %timeit magic"
   ]
  },
  {
   "cell_type": "code",
   "execution_count": 151,
   "id": "03317f41",
   "metadata": {},
   "outputs": [
    {
     "name": "stdout",
     "output_type": "stream",
     "text": [
      "713 ms ± 6.22 ms per loop (mean ± std. dev. of 7 runs, 1 loop each)\n"
     ]
    }
   ],
   "source": [
    "big_array = rng.integers(1, 100, size = 1000000)\n",
    "%timeit compute_reciprocals(big_array)"
   ]
  },
  {
   "cell_type": "markdown",
   "id": "95fc30eb",
   "metadata": {},
   "source": [
    "It takes several seconds to compute these million operations and to store the result!\n",
    "When even cell phones have processing speeds measured in gigaflops (i.e., billions of\n",
    "numerical operations per second), this seems almost absurdly slow. It turns out that\n",
    "the bottleneck here is not the operations themselves, but the type checking and function\n",
    "dispatches that CPython must do at each cycle of the loop. Each time the reciprocal\n",
    "is computed, Python first examines the object’s type and does a dynamic lookup of\n",
    "the correct function to use for that type. If we were working in compiled code instead,\n",
    "this type specification would be known before the code executed and the result could\n",
    "be computed much more efficiently."
   ]
  },
  {
   "cell_type": "markdown",
   "id": "895311a4",
   "metadata": {},
   "source": [
    "## Introsucting Ufuncs"
   ]
  },
  {
   "cell_type": "markdown",
   "id": "cc29c5d1",
   "metadata": {},
   "source": [
    "For many types of operations, NumPy provides a convenient interface into just this\n",
    "kind of statically typed, compiled routine. This is known as a vectorized operation.\n",
    "For simple operations like the element-wise division here, vectorization is as simple\n",
    "as using Python arithmetic operators directly on the array object. This vectorized\n",
    "approach is designed to push the"
   ]
  },
  {
   "cell_type": "markdown",
   "id": "db3f3d09",
   "metadata": {},
   "source": [
    "Compare the results of the following two operations:"
   ]
  },
  {
   "cell_type": "code",
   "execution_count": 152,
   "id": "b6d88ee4",
   "metadata": {},
   "outputs": [
    {
     "name": "stdout",
     "output_type": "stream",
     "text": [
      "[0.11111111 0.25       1.         0.33333333 0.125     ]\n",
      "[0.11111111 0.25       1.         0.33333333 0.125     ]\n"
     ]
    }
   ],
   "source": [
    "print(compute_reciprocals(values))\n",
    "print(1.0/values)"
   ]
  },
  {
   "cell_type": "code",
   "execution_count": 153,
   "id": "262ef803",
   "metadata": {},
   "outputs": [
    {
     "name": "stdout",
     "output_type": "stream",
     "text": [
      "716 μs ± 41.3 μs per loop (mean ± std. dev. of 7 runs, 1,000 loops each)\n"
     ]
    }
   ],
   "source": [
    "%timeit (1.0/big_array)"
   ]
  },
  {
   "cell_type": "markdown",
   "id": "c01c56db",
   "metadata": {},
   "source": [
    "Vectorized operations in Numpy are implemented via ufuncs, wholse main purpose is to quickly execute repeated operations between a scalar and an array, but we can also operate between two arrays:"
   ]
  },
  {
   "cell_type": "code",
   "execution_count": 154,
   "id": "8a9d75a3",
   "metadata": {},
   "outputs": [
    {
     "data": {
      "text/plain": [
       "array([0.        , 0.5       , 0.66666667, 0.75      , 0.8       ])"
      ]
     },
     "execution_count": 154,
     "metadata": {},
     "output_type": "execute_result"
    }
   ],
   "source": [
    "np.arange(5)/ np.arange(1,6)"
   ]
  },
  {
   "cell_type": "markdown",
   "id": "9431ebf0",
   "metadata": {},
   "source": [
    "And ufunc operations are not limited to one-dimantional arrays. The can act on multidimentional arrays as well:"
   ]
  },
  {
   "cell_type": "code",
   "execution_count": 155,
   "id": "cad46257",
   "metadata": {},
   "outputs": [
    {
     "data": {
      "text/plain": [
       "array([[  1,   2,   4],\n",
       "       [  8,  16,  32],\n",
       "       [ 64, 128, 256]])"
      ]
     },
     "execution_count": 155,
     "metadata": {},
     "output_type": "execute_result"
    }
   ],
   "source": [
    "x = np.arange(9).reshape((3,3))\n",
    "2**x # 2 ^ x"
   ]
  },
  {
   "cell_type": "markdown",
   "id": "2ca0e81f",
   "metadata": {},
   "source": [
    "## Exploring NumPy's Ufuncs"
   ]
  },
  {
   "cell_type": "markdown",
   "id": "e45226dd",
   "metadata": {},
   "source": [
    "Ufuncs exist in two flavors: unary ufuncs, which operate on single input, and binary ufuncs, which operate on two inputs, We'll see examples of both these types of fuchtions here:"
   ]
  },
  {
   "cell_type": "markdown",
   "id": "fed97c40",
   "metadata": {},
   "source": [
    "<b> Array Arithmetic"
   ]
  },
  {
   "cell_type": "code",
   "execution_count": 156,
   "id": "525dfb76",
   "metadata": {},
   "outputs": [
    {
     "name": "stdout",
     "output_type": "stream",
     "text": [
      "x = [0 1 2 3]\n",
      "x+5 = [5 6 7 8]\n",
      "x-5 = [-5 -4 -3 -2]\n",
      "x*5 = [ 0  5 10 15]\n",
      "x/2 = [0.  0.5 1.  1.5]\n",
      "x//2 = [0 0 1 1]\n"
     ]
    }
   ],
   "source": [
    "x = np.arange(4)\n",
    "print(f\"x = {x}\")\n",
    "print(f\"x+5 = {x+5}\")\n",
    "print(f\"x-5 = {x-5}\")\n",
    "print(f\"x*5 = {x*5}\")\n",
    "print(f\"x/2 = {x/2}\")\n",
    "print(f\"x//2 = {x//2}\") # floor division"
   ]
  },
  {
   "cell_type": "code",
   "execution_count": 157,
   "id": "e1cf66ff",
   "metadata": {},
   "outputs": [
    {
     "name": "stdout",
     "output_type": "stream",
     "text": [
      "-x = [ 0 -1 -2 -3]\n",
      "x**2 = [0 1 4 9]\n",
      "x%2 = [0 1 0 1]\n"
     ]
    }
   ],
   "source": [
    "print(f\"-x = {-x}\")\n",
    "print(f\"x**2 = {x**2}\")\n",
    "print(f\"x%2 = {x%2}\")"
   ]
  },
  {
   "cell_type": "markdown",
   "id": "a659c79f",
   "metadata": {},
   "source": [
    "These can be strung together howerver you wish, and the standard order of operations is respeted: "
   ]
  },
  {
   "cell_type": "code",
   "execution_count": 158,
   "id": "de4c7d42",
   "metadata": {},
   "outputs": [
    {
     "data": {
      "text/plain": [
       "array([-1.  , -2.25, -4.  , -6.25])"
      ]
     },
     "execution_count": 158,
     "metadata": {},
     "output_type": "execute_result"
    }
   ],
   "source": [
    "-(0.5 * x + 1) ** 2"
   ]
  },
  {
   "cell_type": "markdown",
   "id": "abfe7862",
   "metadata": {},
   "source": [
    "All of these arithmetic operations are simply convenient wrappers around specific ufuncs build into NumPy, For example the + operator is wrapeper for the add unfuc:"
   ]
  },
  {
   "cell_type": "code",
   "execution_count": 159,
   "id": "73321a88",
   "metadata": {},
   "outputs": [
    {
     "data": {
      "text/plain": [
       "array([2, 3, 4, 5])"
      ]
     },
     "execution_count": 159,
     "metadata": {},
     "output_type": "execute_result"
    }
   ],
   "source": [
    "np.add(x,2)"
   ]
  },
  {
   "cell_type": "markdown",
   "id": "bb5db490",
   "metadata": {},
   "source": [
    "<table border=\"1\" cellpadding=\"8\" cellspacing=\"0\">\n",
    "  <caption><strong>Table: Arithmetic operators implemented in NumPy</strong></caption>\n",
    "  <thead>\n",
    "    <tr>\n",
    "      <th>Operator</th>\n",
    "      <th>Equivalent ufunc</th>\n",
    "      <th>Description</th>\n",
    "    </tr>\n",
    "  </thead>\n",
    "  <tbody>\n",
    "    <tr>\n",
    "      <td>+</td>\n",
    "      <td><code>np.add</code></td>\n",
    "      <td>Addition (e.g., 1 + 1 = 2)</td>\n",
    "    </tr>\n",
    "    <tr>\n",
    "      <td>-</td>\n",
    "      <td><code>np.subtract</code></td>\n",
    "      <td>Subtraction (e.g., 3 - 2 = 1)</td>\n",
    "    </tr>\n",
    "    <tr>\n",
    "      <td>-</td>\n",
    "      <td><code>np.negative</code></td>\n",
    "      <td>Unary negation (e.g., -2)</td>\n",
    "    </tr>\n",
    "    <tr>\n",
    "      <td>*</td>\n",
    "      <td><code>np.multiply</code></td>\n",
    "      <td>Multiplication (e.g., 2 * 3 = 6)</td>\n",
    "    </tr>\n",
    "    <tr>\n",
    "      <td>/</td>\n",
    "      <td><code>np.divide</code></td>\n",
    "      <td>Division (e.g., 3 / 2 = 1.5)</td>\n",
    "    </tr>\n",
    "    <tr>\n",
    "      <td>//</td>\n",
    "      <td><code>np.floor_divide</code></td>\n",
    "      <td>Floor division (e.g., 3 // 2 = 1)</td>\n",
    "    </tr>\n",
    "    <tr>\n",
    "      <td>**</td>\n",
    "      <td><code>np.power</code></td>\n",
    "      <td>Exponentiation (e.g., 2 ** 3 = 8)</td>\n",
    "    </tr>\n",
    "    <tr>\n",
    "      <td>%</td>\n",
    "      <td><code>np.mod</code></td>\n",
    "      <td>Modulus/remainder (e.g., 9 % 4 = 1)</td>\n",
    "    </tr>\n",
    "  </tbody>\n",
    "</table>\n"
   ]
  },
  {
   "cell_type": "markdown",
   "id": "74b5dfb6",
   "metadata": {},
   "source": [
    "<B>Abusolute Value"
   ]
  },
  {
   "cell_type": "code",
   "execution_count": 160,
   "id": "6c5bde71",
   "metadata": {},
   "outputs": [
    {
     "data": {
      "text/plain": [
       "array([2, 1, 0, 1, 2])"
      ]
     },
     "execution_count": 160,
     "metadata": {},
     "output_type": "execute_result"
    }
   ],
   "source": [
    "x = np.array([-2, -1, 0, 1, 2])\n",
    "abs(x)"
   ]
  },
  {
   "cell_type": "code",
   "execution_count": 161,
   "id": "d55ef42b",
   "metadata": {},
   "outputs": [
    {
     "data": {
      "text/plain": [
       "array([2, 1, 0, 1, 2])"
      ]
     },
     "execution_count": 161,
     "metadata": {},
     "output_type": "execute_result"
    }
   ],
   "source": [
    "np.absolute(x)"
   ]
  },
  {
   "cell_type": "code",
   "execution_count": 162,
   "id": "efc879b7",
   "metadata": {},
   "outputs": [
    {
     "data": {
      "text/plain": [
       "array([2, 1, 0, 1, 2])"
      ]
     },
     "execution_count": 162,
     "metadata": {},
     "output_type": "execute_result"
    }
   ],
   "source": [
    "np.abs(x)"
   ]
  },
  {
   "cell_type": "markdown",
   "id": "c75cd0eb",
   "metadata": {},
   "source": [
    "Aslto can handle complex data, but only returns the magnitude:"
   ]
  },
  {
   "cell_type": "code",
   "execution_count": 163,
   "id": "3cbc4342",
   "metadata": {},
   "outputs": [
    {
     "data": {
      "text/plain": [
       "array([5., 5., 2., 1.])"
      ]
     },
     "execution_count": 163,
     "metadata": {},
     "output_type": "execute_result"
    }
   ],
   "source": [
    "x = np.array([3-4j, 4-3j, 2+0j, 0+1j])\n",
    "np.abs(x)"
   ]
  },
  {
   "cell_type": "markdown",
   "id": "af6f85ed",
   "metadata": {},
   "source": [
    "<b> Trigonometric Functions"
   ]
  },
  {
   "cell_type": "code",
   "execution_count": 164,
   "id": "e0aabd78",
   "metadata": {},
   "outputs": [
    {
     "data": {
      "text/plain": [
       "array([0.        , 1.57079633, 3.14159265])"
      ]
     },
     "execution_count": 164,
     "metadata": {},
     "output_type": "execute_result"
    }
   ],
   "source": [
    "#linpace(start:end:n) gives n number of evenly divided value from start to end\n",
    "theta =  np.linspace(0, np.pi, 3)\n",
    "theta"
   ]
  },
  {
   "cell_type": "code",
   "execution_count": 165,
   "id": "4f3b09f3",
   "metadata": {},
   "outputs": [
    {
     "data": {
      "text/plain": [
       "array([0.        , 1.57079633, 3.14159265])"
      ]
     },
     "execution_count": 165,
     "metadata": {},
     "output_type": "execute_result"
    }
   ],
   "source": [
    "theta"
   ]
  },
  {
   "cell_type": "code",
   "execution_count": 166,
   "id": "fbef3a08",
   "metadata": {},
   "outputs": [
    {
     "name": "stdout",
     "output_type": "stream",
     "text": [
      "[0.0000000e+00 1.0000000e+00 1.2246468e-16]\n",
      "[ 1.000000e+00  6.123234e-17 -1.000000e+00]\n",
      "[ 0.00000000e+00  1.63312394e+16 -1.22464680e-16]\n"
     ]
    }
   ],
   "source": [
    "print(np.sin(theta))\n",
    "print(np.cos(theta))\n",
    "print(np.tan(theta))"
   ]
  },
  {
   "cell_type": "code",
   "execution_count": 167,
   "id": "f3bfdbcc",
   "metadata": {},
   "outputs": [
    {
     "name": "stdout",
     "output_type": "stream",
     "text": [
      "[-1, 0, 1]\n",
      "[-1.57079633  0.          1.57079633]\n",
      "[3.14159265 1.57079633 0.        ]\n",
      "[-0.78539816  0.          0.78539816]\n"
     ]
    }
   ],
   "source": [
    "x = [-1, 0, 1]\n",
    "print(x)\n",
    "print(np.arcsin(x))\n",
    "print(np.arccos(x))\n",
    "print(np.arctan(x))"
   ]
  },
  {
   "cell_type": "markdown",
   "id": "8b919e8f",
   "metadata": {},
   "source": [
    "<B>Exponets and logarithms"
   ]
  },
  {
   "cell_type": "code",
   "execution_count": 168,
   "id": "28a02313",
   "metadata": {},
   "outputs": [
    {
     "data": {
      "text/plain": [
       "([1, 2, 3],\n",
       " array([ 2.71828183,  7.3890561 , 20.08553692]),\n",
       " array([2., 4., 8.]),\n",
       " array([ 3.,  9., 27.]))"
      ]
     },
     "execution_count": 168,
     "metadata": {},
     "output_type": "execute_result"
    }
   ],
   "source": [
    "x = [1,2,3]\n",
    "x, np.exp(x), np.exp2(x), np.power(3., x) # x, e^x, 2^x, 3^x"
   ]
  },
  {
   "cell_type": "code",
   "execution_count": 169,
   "id": "9ee5c217",
   "metadata": {},
   "outputs": [
    {
     "data": {
      "text/plain": [
       "([1, 2, 3, 4, 10],\n",
       " array([0.        , 0.69314718, 1.09861229, 1.38629436, 2.30258509]),\n",
       " array([0.        , 1.        , 1.5849625 , 2.        , 3.32192809]),\n",
       " array([0.        , 0.30103   , 0.47712125, 0.60205999, 1.        ]))"
      ]
     },
     "execution_count": 169,
     "metadata": {},
     "output_type": "execute_result"
    }
   ],
   "source": [
    "x = [1,2,3,4,10]\n",
    "x, np.log(x), np.log2(x), np.log10(x) # x, ln(x), ...."
   ]
  },
  {
   "cell_type": "code",
   "execution_count": 170,
   "id": "7a01bea0",
   "metadata": {},
   "outputs": [
    {
     "name": "stdout",
     "output_type": "stream",
     "text": [
      "[0.         0.0010005  0.01005017 0.10517092]\n",
      "[0.         0.0009995  0.00995033 0.09531018]\n"
     ]
    }
   ],
   "source": [
    "x = [0, 0.001, 0.01, 0.1]\n",
    "print(np.expm1(x)) # exp(x) -1\n",
    "print(np.log1p(x)) # log(1+x)\n",
    "# gives more precise values than raw np.log or np.exp"
   ]
  },
  {
   "cell_type": "markdown",
   "id": "97774934",
   "metadata": {},
   "source": [
    "<b> Specialized Ufuncs"
   ]
  },
  {
   "cell_type": "code",
   "execution_count": 171,
   "id": "7c30f0fa",
   "metadata": {},
   "outputs": [],
   "source": [
    "from scipy import special as sp"
   ]
  },
  {
   "cell_type": "code",
   "execution_count": 172,
   "id": "4120a097",
   "metadata": {},
   "outputs": [
    {
     "data": {
      "text/plain": [
       "(array([1.0000e+00, 2.4000e+01, 3.6288e+05]),\n",
       " array([ 0.        ,  3.17805383, 12.80182748]),\n",
       " array([0.5       , 0.03333333, 0.00909091]))"
      ]
     },
     "execution_count": 172,
     "metadata": {},
     "output_type": "execute_result"
    }
   ],
   "source": [
    "# Gamma functions (generalized factorials) and related functions\n",
    "x = [1,5,10]\n",
    "sp.gamma(x), sp.gammaln(x), sp.beta(x,2)\n"
   ]
  },
  {
   "cell_type": "code",
   "execution_count": 173,
   "id": "5fcafd48",
   "metadata": {},
   "outputs": [
    {
     "data": {
      "text/plain": [
       "(array([0.        , 0.33333333, 0.66666667, 1.        ]),\n",
       " array([0.        , 0.36264811, 0.65422141, 0.84270079]),\n",
       " array([1.        , 0.63735189, 0.34577859, 0.15729921]),\n",
       " array([0.        , 0.30457019, 0.68407035,        inf]))"
      ]
     },
     "execution_count": 173,
     "metadata": {},
     "output_type": "execute_result"
    }
   ],
   "source": [
    "# Error FUnction (integral of Gaussion),\n",
    "#its complement, and its inverse\n",
    "x = np.linspace(0, 1, 4)\n",
    "x, sp.erf(x), sp.erfc(x), sp.erfinv(x)"
   ]
  },
  {
   "cell_type": "markdown",
   "id": "93c6bc33",
   "metadata": {},
   "source": [
    "## Advanced Ufunc Features"
   ]
  },
  {
   "cell_type": "markdown",
   "id": "db81e444",
   "metadata": {},
   "source": [
    "Many NumPy users make use of ufuncs without ever learing their full set of features.\n",
    "<br>\n",
    "<b> Not Me"
   ]
  },
  {
   "cell_type": "markdown",
   "id": "3fba5291",
   "metadata": {},
   "source": [
    "<b> Specifying Output"
   ]
  },
  {
   "cell_type": "markdown",
   "id": "ec8748f6",
   "metadata": {},
   "source": [
    "For large calculating it is sometimes useful to be able to specify the array where the result of the calcuoation will be stored. For all ufuncs, this can be done using the out argument of the function:"
   ]
  },
  {
   "cell_type": "code",
   "execution_count": 174,
   "id": "6c3720dc",
   "metadata": {},
   "outputs": [
    {
     "data": {
      "text/plain": [
       "array([ 0., 10., 20., 30., 40.])"
      ]
     },
     "execution_count": 174,
     "metadata": {},
     "output_type": "execute_result"
    }
   ],
   "source": [
    "x = np.arange(5)\n",
    "y = np.empty(5)\n",
    "np.multiply(x, 10, out=y)\n",
    "y"
   ]
  },
  {
   "cell_type": "code",
   "execution_count": 175,
   "id": "6574c277",
   "metadata": {},
   "outputs": [
    {
     "data": {
      "text/plain": [
       "array([ 1.,  0.,  2.,  0.,  4.,  0.,  8.,  0., 16.,  0.])"
      ]
     },
     "execution_count": 175,
     "metadata": {},
     "output_type": "execute_result"
    }
   ],
   "source": [
    "y = np.zeros(10)\n",
    "np.power(2, x, out=y[::2])\n",
    "y"
   ]
  },
  {
   "cell_type": "markdown",
   "id": "c86ad78e",
   "metadata": {},
   "source": [
    "If we had insted written <B> y[::2] = 2**x</b>, this would have the resulted in the creating of a temporary array to hold the reluts of 2 ** x, followed by a second operation copying those values into the y arrays. Thos doesn't make much of a difference for such a small computation, but for very large arrays the memory savings from careful use of the out arguments can be significant."
   ]
  },
  {
   "cell_type": "markdown",
   "id": "c3b729dd",
   "metadata": {},
   "source": [
    "<b>Aggregations"
   ]
  },
  {
   "cell_type": "markdown",
   "id": "feb91ec8",
   "metadata": {},
   "source": [
    "Calling <b>reduce</b> on the add ufunc returns the sum of all elements in the array:"
   ]
  },
  {
   "cell_type": "code",
   "execution_count": 176,
   "id": "5cb5748e",
   "metadata": {},
   "outputs": [
    {
     "name": "stdout",
     "output_type": "stream",
     "text": [
      "[1 2 3 4 5]\n",
      "15\n"
     ]
    }
   ],
   "source": [
    "x = np.arange(1,6)\n",
    "print(x)\n",
    "print(np.add.reduce(x))"
   ]
  },
  {
   "cell_type": "code",
   "execution_count": 177,
   "id": "f80f8403",
   "metadata": {},
   "outputs": [
    {
     "data": {
      "text/plain": [
       "120"
      ]
     },
     "execution_count": 177,
     "metadata": {},
     "output_type": "execute_result"
    }
   ],
   "source": [
    "np.multiply.reduce(x)"
   ]
  },
  {
   "cell_type": "markdown",
   "id": "5db3e255",
   "metadata": {},
   "source": [
    "If we'd like to store all the intermediate results of the computations, we can instead use accumulate:"
   ]
  },
  {
   "cell_type": "code",
   "execution_count": 178,
   "id": "362ee2c8",
   "metadata": {},
   "outputs": [
    {
     "data": {
      "text/plain": [
       "array([ 1,  3,  6, 10, 15])"
      ]
     },
     "execution_count": 178,
     "metadata": {},
     "output_type": "execute_result"
    }
   ],
   "source": [
    "np.add.accumulate(x)"
   ]
  },
  {
   "cell_type": "code",
   "execution_count": 179,
   "id": "61a6acb0",
   "metadata": {},
   "outputs": [
    {
     "data": {
      "text/plain": [
       "array([  1,   2,   6,  24, 120])"
      ]
     },
     "execution_count": 179,
     "metadata": {},
     "output_type": "execute_result"
    }
   ],
   "source": [
    "np.multiply.accumulate(x)"
   ]
  },
  {
   "cell_type": "markdown",
   "id": "21922140",
   "metadata": {},
   "source": [
    "<b>Note:</b> For these particular calses, here are dedicated Numpy funcions to compute the resluts (np.sum, np.prod, np.cumsum, np.cumprod), which we'll se letter"
   ]
  },
  {
   "cell_type": "markdown",
   "id": "b7751e6d",
   "metadata": {},
   "source": [
    "<B>Outer Products"
   ]
  },
  {
   "cell_type": "code",
   "execution_count": 180,
   "id": "e88b341e",
   "metadata": {},
   "outputs": [
    {
     "name": "stdout",
     "output_type": "stream",
     "text": [
      "[1 2 3 4 5]\n"
     ]
    },
    {
     "data": {
      "text/plain": [
       "array([[ 1,  2,  3,  4,  5],\n",
       "       [ 2,  4,  6,  8, 10],\n",
       "       [ 3,  6,  9, 12, 15],\n",
       "       [ 4,  8, 12, 16, 20],\n",
       "       [ 5, 10, 15, 20, 25]])"
      ]
     },
     "execution_count": 180,
     "metadata": {},
     "output_type": "execute_result"
    }
   ],
   "source": [
    "x = np.arange(1,6)\n",
    "print(x)\n",
    "np.multiply.outer(x,x)"
   ]
  },
  {
   "cell_type": "code",
   "execution_count": 181,
   "id": "0eb21ad8",
   "metadata": {},
   "outputs": [
    {
     "name": "stdout",
     "output_type": "stream",
     "text": [
      "[[[ 1  2  3  4  5]]\n",
      "\n",
      " [[ 2  4  6  8 10]]\n",
      "\n",
      " [[ 3  6  9 12 15]]\n",
      "\n",
      " [[ 4  8 12 16 20]]\n",
      "\n",
      " [[ 5 10 15 20 25]]]\n"
     ]
    }
   ],
   "source": [
    "y = np.arange(1,6).reshape(5,1)\n",
    "print(np.multiply.outer(y,x))"
   ]
  },
  {
   "cell_type": "markdown",
   "id": "a6ae1fcf",
   "metadata": {},
   "source": [
    "# <b> PART 3: Aggregations: min, max and Everything in Bettween"
   ]
  },
  {
   "cell_type": "markdown",
   "id": "38a55ea9",
   "metadata": {},
   "source": [
    "## Summing the Values in an Array"
   ]
  },
  {
   "cell_type": "code",
   "execution_count": 182,
   "id": "1456aa9d",
   "metadata": {},
   "outputs": [],
   "source": [
    "import numpy as np\n",
    "rng = np.random.default_rng()"
   ]
  },
  {
   "cell_type": "code",
   "execution_count": 183,
   "id": "f88605f4",
   "metadata": {},
   "outputs": [
    {
     "data": {
      "text/plain": [
       "47.14495100698757"
      ]
     },
     "execution_count": 183,
     "metadata": {},
     "output_type": "execute_result"
    }
   ],
   "source": [
    "L = rng.random(100)\n",
    "sum(L)"
   ]
  },
  {
   "cell_type": "markdown",
   "id": "9a211b10",
   "metadata": {},
   "source": [
    "The syntex is quite similar to that of NumPy's sum funciton, and the reult is the same in the simplest case:"
   ]
  },
  {
   "cell_type": "code",
   "execution_count": 184,
   "id": "c259a7ab",
   "metadata": {},
   "outputs": [
    {
     "data": {
      "text/plain": [
       "47.14495100698757"
      ]
     },
     "execution_count": 184,
     "metadata": {},
     "output_type": "execute_result"
    }
   ],
   "source": [
    "np.sum(L)"
   ]
  },
  {
   "cell_type": "markdown",
   "id": "d0ea11f7",
   "metadata": {},
   "source": [
    "Howerver, because it executes the operation in compiled code, NumPy's version of the operation is computed much more queickly:"
   ]
  },
  {
   "cell_type": "code",
   "execution_count": 185,
   "id": "5a4b64d1",
   "metadata": {},
   "outputs": [
    {
     "name": "stdout",
     "output_type": "stream",
     "text": [
      "4.15 s ± 75.7 ms per loop (mean ± std. dev. of 7 runs, 1 loop each)\n",
      "17.7 ms ± 144 μs per loop (mean ± std. dev. of 7 runs, 100 loops each)\n"
     ]
    }
   ],
   "source": [
    "big_array = rng.random(100000000)\n",
    "%timeit sum(big_array)\n",
    "%timeit np.sum(big_array)"
   ]
  },
  {
   "cell_type": "markdown",
   "id": "1448a29e",
   "metadata": {},
   "source": [
    "Be careful, though: the sum function and the np.sum function are not identical, which\n",
    "can sometimes lead to confusion! In particular, their optional arguments have different\n",
    "meanings (sum(x, 1) initializes the sum at 1, while np.sum(x, 1) sums along\n",
    "axis 1), and np.sum is aware of multiple array dimensions, as we will see in the following\n",
    "section."
   ]
  },
  {
   "cell_type": "markdown",
   "id": "d5749e15",
   "metadata": {},
   "source": [
    "## Minimum and Maximum"
   ]
  },
  {
   "cell_type": "code",
   "execution_count": 186,
   "id": "994a1da8",
   "metadata": {},
   "outputs": [
    {
     "data": {
      "text/plain": [
       "(1.1195613547343441e-08, 0.9999999971461928)"
      ]
     },
     "execution_count": 186,
     "metadata": {},
     "output_type": "execute_result"
    }
   ],
   "source": [
    "#python build-in\n",
    "min(big_array), max(big_array)"
   ]
  },
  {
   "cell_type": "code",
   "execution_count": 187,
   "id": "cab3b79e",
   "metadata": {},
   "outputs": [
    {
     "data": {
      "text/plain": [
       "(1.1195613547343441e-08, 0.9999999971461928)"
      ]
     },
     "execution_count": 187,
     "metadata": {},
     "output_type": "execute_result"
    }
   ],
   "source": [
    "# NumPy build-in\n",
    "np.min(big_array), np.max(big_array)"
   ]
  },
  {
   "cell_type": "markdown",
   "id": "b0110107",
   "metadata": {},
   "source": [
    "For min, max, sum and several other Numpy aggregates, a shorted syntex is to use method of the array object itself:"
   ]
  },
  {
   "cell_type": "code",
   "execution_count": 188,
   "id": "04c7124c",
   "metadata": {},
   "outputs": [
    {
     "data": {
      "text/plain": [
       "(1.1195613547343441e-08, 0.9999999971461928)"
      ]
     },
     "execution_count": 188,
     "metadata": {},
     "output_type": "execute_result"
    }
   ],
   "source": [
    "big_array.min(), big_array.max()"
   ]
  },
  {
   "cell_type": "markdown",
   "id": "f8cbe9a3",
   "metadata": {},
   "source": [
    "## Multidimenstional Aggregates"
   ]
  },
  {
   "cell_type": "code",
   "execution_count": 189,
   "id": "c184456d",
   "metadata": {},
   "outputs": [
    {
     "name": "stdout",
     "output_type": "stream",
     "text": [
      "[[4 4 1 6]\n",
      " [4 1 7 3]\n",
      " [3 9 3 7]]\n"
     ]
    }
   ],
   "source": [
    "M = rng.integers(0, 10, (3,4))\n",
    "print(M)"
   ]
  },
  {
   "cell_type": "code",
   "execution_count": 190,
   "id": "f3c7d784",
   "metadata": {},
   "outputs": [
    {
     "data": {
      "text/plain": [
       "52"
      ]
     },
     "execution_count": 190,
     "metadata": {},
     "output_type": "execute_result"
    }
   ],
   "source": [
    "M.sum()"
   ]
  },
  {
   "cell_type": "code",
   "execution_count": 191,
   "id": "f4ce7edf",
   "metadata": {},
   "outputs": [
    {
     "data": {
      "text/plain": [
       "array([3, 1, 1, 3])"
      ]
     },
     "execution_count": 191,
     "metadata": {},
     "output_type": "execute_result"
    }
   ],
   "source": [
    "M.min(axis = 0)"
   ]
  },
  {
   "cell_type": "code",
   "execution_count": 192,
   "id": "ca7f7558",
   "metadata": {},
   "outputs": [
    {
     "data": {
      "text/plain": [
       "array([6, 7, 9])"
      ]
     },
     "execution_count": 192,
     "metadata": {},
     "output_type": "execute_result"
    }
   ],
   "source": [
    "M.max(axis = 1)"
   ]
  },
  {
   "cell_type": "markdown",
   "id": "e9458351",
   "metadata": {},
   "source": [
    "<table border=\"1\" cellpadding=\"8\" cellspacing=\"0\">\n",
    "  <caption><strong>Table: Aggregation functions available in NumPy</strong></caption>\n",
    "  <thead>\n",
    "    <tr>\n",
    "      <th>Function name</th>\n",
    "      <th>NaN-safe version</th>\n",
    "      <th>Description</th>\n",
    "    </tr>\n",
    "  </thead>\n",
    "  <tbody>\n",
    "    <tr>\n",
    "      <td><code>np.sum</code></td>\n",
    "      <td><code>np.nansum</code></td>\n",
    "      <td>Compute sum of elements</td>\n",
    "    </tr>\n",
    "    <tr>\n",
    "      <td><code>np.prod</code></td>\n",
    "      <td><code>np.nanprod</code></td>\n",
    "      <td>Compute product of elements</td>\n",
    "    </tr>\n",
    "    <tr>\n",
    "      <td><code>np.mean</code></td>\n",
    "      <td><code>np.nanmean</code></td>\n",
    "      <td>Compute mean of elements</td>\n",
    "    </tr>\n",
    "    <tr>\n",
    "      <td><code>np.std</code></td>\n",
    "      <td><code>np.nanstd</code></td>\n",
    "      <td>Compute standard deviation</td>\n",
    "    </tr>\n",
    "    <tr>\n",
    "      <td><code>np.var</code></td>\n",
    "      <td><code>np.nanvar</code></td>\n",
    "      <td>Compute variance</td>\n",
    "    </tr>\n",
    "    <tr>\n",
    "      <td><code>np.min</code></td>\n",
    "      <td><code>np.nanmin</code></td>\n",
    "      <td>Find minimum value</td>\n",
    "    </tr>\n",
    "    <tr>\n",
    "      <td><code>np.max</code></td>\n",
    "      <td><code>np.nanmax</code></td>\n",
    "      <td>Find maximum value</td>\n",
    "    </tr>\n",
    "    <tr>\n",
    "      <td><code>np.argmin</code></td>\n",
    "      <td><code>np.nanargmin</code></td>\n",
    "      <td>Find index of minimum value</td>\n",
    "    </tr>\n",
    "    <tr>\n",
    "      <td><code>np.argmax</code></td>\n",
    "      <td><code>np.nanargmax</code></td>\n",
    "      <td>Find index of maximum value</td>\n",
    "    </tr>\n",
    "    <tr>\n",
    "      <td><code>np.median</code></td>\n",
    "      <td><code>np.nanmedian</code></td>\n",
    "      <td>Compute median of elements</td>\n",
    "    </tr>\n",
    "    <tr>\n",
    "      <td><code>np.percentile</code></td>\n",
    "      <td><code>np.nanpercentile</code></td>\n",
    "      <td>Compute rank-based statistics of elements</td>\n",
    "    </tr>\n",
    "    <tr>\n",
    "      <td><code>np.any</code></td>\n",
    "      <td>N/A</td>\n",
    "      <td>Evaluate whether any elements are true</td>\n",
    "    </tr>\n",
    "    <tr>\n",
    "      <td><code>np.all</code></td>\n",
    "      <td>N/A</td>\n",
    "      <td>Evaluate whether all elements are true</td>\n",
    "    </tr>\n",
    "  </tbody>\n",
    "</table>\n"
   ]
  },
  {
   "cell_type": "markdown",
   "id": "2afc2d47",
   "metadata": {},
   "source": [
    "## Example: What is the Avarage height of US Presidents?"
   ]
  },
  {
   "cell_type": "markdown",
   "id": "11b30fa3",
   "metadata": {},
   "source": [
    "Aggregates available in numpy can act as summury statistics for a set fo values. As a small example, lets's consider the heights of all US presidents. Thes data is available in the file president_health.csv"
   ]
  },
  {
   "cell_type": "code",
   "execution_count": 193,
   "id": "e04abf21",
   "metadata": {},
   "outputs": [
    {
     "data": {
      "text/html": [
       "<div>\n",
       "<style scoped>\n",
       "    .dataframe tbody tr th:only-of-type {\n",
       "        vertical-align: middle;\n",
       "    }\n",
       "\n",
       "    .dataframe tbody tr th {\n",
       "        vertical-align: top;\n",
       "    }\n",
       "\n",
       "    .dataframe thead th {\n",
       "        text-align: right;\n",
       "    }\n",
       "</style>\n",
       "<table border=\"1\" class=\"dataframe\">\n",
       "  <thead>\n",
       "    <tr style=\"text-align: right;\">\n",
       "      <th></th>\n",
       "      <th>order</th>\n",
       "      <th>name</th>\n",
       "      <th>height(cm)</th>\n",
       "    </tr>\n",
       "  </thead>\n",
       "  <tbody>\n",
       "    <tr>\n",
       "      <th>0</th>\n",
       "      <td>1</td>\n",
       "      <td>George Washington</td>\n",
       "      <td>189</td>\n",
       "    </tr>\n",
       "    <tr>\n",
       "      <th>1</th>\n",
       "      <td>2</td>\n",
       "      <td>John Adams</td>\n",
       "      <td>170</td>\n",
       "    </tr>\n",
       "    <tr>\n",
       "      <th>2</th>\n",
       "      <td>3</td>\n",
       "      <td>Thomas Jefferson</td>\n",
       "      <td>189</td>\n",
       "    </tr>\n",
       "    <tr>\n",
       "      <th>3</th>\n",
       "      <td>4</td>\n",
       "      <td>James Madison</td>\n",
       "      <td>163</td>\n",
       "    </tr>\n",
       "    <tr>\n",
       "      <th>4</th>\n",
       "      <td>5</td>\n",
       "      <td>James Monroe</td>\n",
       "      <td>183</td>\n",
       "    </tr>\n",
       "  </tbody>\n",
       "</table>\n",
       "</div>"
      ],
      "text/plain": [
       "   order               name  height(cm)\n",
       "0      1  George Washington         189\n",
       "1      2         John Adams         170\n",
       "2      3   Thomas Jefferson         189\n",
       "3      4      James Madison         163\n",
       "4      5       James Monroe         183"
      ]
     },
     "execution_count": 193,
     "metadata": {},
     "output_type": "execute_result"
    }
   ],
   "source": [
    "import pandas as pd\n",
    "data = pd.read_csv(\"https://raw.githubusercontent.com/amankharwal/US-presidents-heights/refs/heads/master/president_heights.csv\")\n",
    "data.head()"
   ]
  },
  {
   "cell_type": "code",
   "execution_count": 194,
   "id": "48bcdf58",
   "metadata": {},
   "outputs": [
    {
     "name": "stdout",
     "output_type": "stream",
     "text": [
      "[189 170 189 163 183 171 185 168 173 183 173 173 175 178 183 193 178 173\n",
      " 174 183 183 168 170 178 182 180 183 178 182 188 175 179 183 193 182 183\n",
      " 177 185 188 188 182 185]\n"
     ]
    }
   ],
   "source": [
    "height = np.array(data['height(cm)'])\n",
    "print(height)"
   ]
  },
  {
   "cell_type": "code",
   "execution_count": 195,
   "id": "4a824d85",
   "metadata": {},
   "outputs": [
    {
     "data": {
      "text/plain": [
       "(179.73809523809524, 6.931843442745892, 163, 193)"
      ]
     },
     "execution_count": 195,
     "metadata": {},
     "output_type": "execute_result"
    }
   ],
   "source": [
    "height.mean(), height.std(), height.min(), height.max()"
   ]
  },
  {
   "cell_type": "code",
   "execution_count": 196,
   "id": "bd916b2d",
   "metadata": {},
   "outputs": [
    {
     "name": "stdout",
     "output_type": "stream",
     "text": [
      "174.25 182.0 183.0\n"
     ]
    }
   ],
   "source": [
    "print(np.percentile(height, 25),\n",
    "np.median(height),\n",
    "np.percentile(height, 75))"
   ]
  },
  {
   "cell_type": "code",
   "execution_count": 197,
   "id": "7d4cf6d7",
   "metadata": {},
   "outputs": [],
   "source": [
    "import matplotlib.pyplot as plt\n",
    "# plt.style.use('seaborn-v0_8-whitegrid')\n",
    "plt.style.use('default')"
   ]
  },
  {
   "cell_type": "code",
   "execution_count": 198,
   "id": "c668850a",
   "metadata": {},
   "outputs": [
    {
     "data": {
      "image/png": "[encoded data removed]",
      "text/plain": [
       "<Figure size 1000x700 with 1 Axes>"
      ]
     },
     "metadata": {},
     "output_type": "display_data"
    }
   ],
   "source": [
    "plt.figure(figsize=(10,7))\n",
    "plt.hist(height, color = \"#00BFFF\") # this color is called capri haha\n",
    "plt.title('Height Distribution of Us Presidents')\n",
    "plt.xlabel('Height(cm)')\n",
    "plt.ylabel('number')\n",
    "plt.grid()\n",
    "plt.show()"
   ]
  },
  {
   "cell_type": "markdown",
   "id": "cc9e421c",
   "metadata": {},
   "source": [
    "# <B> PART 4: Computation on Arrays:"
   ]
  },
  {
   "cell_type": "markdown",
   "id": "12e8d843",
   "metadata": {},
   "source": [
    "## Introducing Broadcasting"
   ]
  },
  {
   "cell_type": "code",
   "execution_count": 199,
   "id": "a2c3b741",
   "metadata": {},
   "outputs": [],
   "source": [
    "import numpy as np"
   ]
  },
  {
   "cell_type": "code",
   "execution_count": 200,
   "id": "0d681134",
   "metadata": {},
   "outputs": [
    {
     "data": {
      "text/plain": [
       "array([5, 6, 7])"
      ]
     },
     "execution_count": 200,
     "metadata": {},
     "output_type": "execute_result"
    }
   ],
   "source": [
    "a = np.array([0,1,2])\n",
    "b = np.array([5,5,5])\n",
    "a + b"
   ]
  },
  {
   "cell_type": "code",
   "execution_count": 201,
   "id": "791b9657",
   "metadata": {},
   "outputs": [
    {
     "data": {
      "text/plain": [
       "array([5, 6, 7])"
      ]
     },
     "execution_count": 201,
     "metadata": {},
     "output_type": "execute_result"
    }
   ],
   "source": [
    "a + b"
   ]
  },
  {
   "cell_type": "code",
   "execution_count": 202,
   "id": "407d6983",
   "metadata": {},
   "outputs": [
    {
     "data": {
      "text/plain": [
       "array([[1., 1., 1.],\n",
       "       [1., 1., 1.],\n",
       "       [1., 1., 1.]])"
      ]
     },
     "execution_count": 202,
     "metadata": {},
     "output_type": "execute_result"
    }
   ],
   "source": [
    "M = np.ones((3,3))\n",
    "M"
   ]
  },
  {
   "cell_type": "code",
   "execution_count": 203,
   "id": "26fa94c9",
   "metadata": {},
   "outputs": [
    {
     "data": {
      "text/plain": [
       "array([[1., 2., 3.],\n",
       "       [1., 2., 3.],\n",
       "       [1., 2., 3.]])"
      ]
     },
     "execution_count": 203,
     "metadata": {},
     "output_type": "execute_result"
    }
   ],
   "source": [
    "M + a"
   ]
  },
  {
   "cell_type": "code",
   "execution_count": 204,
   "id": "69d132f9",
   "metadata": {},
   "outputs": [
    {
     "data": {
      "text/plain": [
       "(array([0, 1, 2]),\n",
       " array([[0],\n",
       "        [1],\n",
       "        [2]]))"
      ]
     },
     "execution_count": 204,
     "metadata": {},
     "output_type": "execute_result"
    }
   ],
   "source": [
    "a = np.arange(3)\n",
    "b =  np.arange(3)[:, np.newaxis]\n",
    "a, b"
   ]
  },
  {
   "cell_type": "code",
   "execution_count": 205,
   "id": "17bd4810",
   "metadata": {},
   "outputs": [
    {
     "data": {
      "text/plain": [
       "array([[0, 1, 2],\n",
       "       [1, 2, 3],\n",
       "       [2, 3, 4]])"
      ]
     },
     "execution_count": 205,
     "metadata": {},
     "output_type": "execute_result"
    }
   ],
   "source": [
    "a + b"
   ]
  },
  {
   "cell_type": "markdown",
   "id": "dfd92582",
   "metadata": {},
   "source": [
    "<!DOCTYPE html>\n",
    "<html lang=\"en\">\n",
    "<head>\n",
    "  <meta charset=\"UTF-8\">\n",
    "  <title>NumPy Broadcasting</title>\n",
    "  <style>\n",
    "    body {\n",
    "      font-family: Arial, sans-serif;\n",
    "    }\n",
    "    table {\n",
    "      border-collapse: collapse;\n",
    "      margin: 20px 0;\n",
    "    }\n",
    "    td {\n",
    "      border: 1px solid #999;\n",
    "      padding: 8px;\n",
    "      text-align: center;\n",
    "      background-color: #d9edf7;\n",
    "    }\n",
    "    .equation {\n",
    "      font-family: monospace;\n",
    "      margin: 10px 0;\n",
    "    }\n",
    "    .section {\n",
    "      margin-bottom: 30px;\n",
    "    }\n",
    "    .caption {\n",
    "      font-style: italic;\n",
    "      font-size: 14px;\n",
    "      margin-top: 10px;\n",
    "    }\n",
    "  </style>\n",
    "</head>\n",
    "<body>\n",
    "\n",
    "  <h2>NumPy Broadcasting Examples</h2>\n",
    "\n",
    "  <div class=\"section\">\n",
    "    <div class=\"equation\">np.arange(3) + 5</div>\n",
    "    <table>\n",
    "      <tr>\n",
    "        <td>0</td><td>1</td><td>2</td>\n",
    "      </tr>\n",
    "      <tr>\n",
    "        <td>+</td><td>+</td><td>+</td>\n",
    "      </tr>\n",
    "      <tr>\n",
    "        <td>5</td><td>5</td><td>5</td>\n",
    "      </tr>\n",
    "      <tr>\n",
    "        <td>=</td><td>=</td><td>=</td>\n",
    "      </tr>\n",
    "      <tr>\n",
    "        <td>5</td><td>6</td><td>7</td>\n",
    "      </tr>\n",
    "    </table>\n",
    "  </div>\n",
    "\n",
    "  <div class=\"section\">\n",
    "    <div class=\"equation\">np.ones((3,3)) + np.arange(3)</div>\n",
    "    <table>\n",
    "      <tr>\n",
    "        <td>1</td><td>1</td><td>1</td>\n",
    "        <td rowspan=\"3\" style=\"border: none;\">+</td>\n",
    "        <td>0</td><td>1</td><td>2</td>\n",
    "        <td rowspan=\"3\" style=\"border: none;\">=</td>\n",
    "        <td>1</td><td>2</td><td>3</td>\n",
    "      </tr>\n",
    "      <tr>\n",
    "        <td>1</td><td>1</td><td>1</td>\n",
    "        <td>0</td><td>1</td><td>2</td>\n",
    "        <td>1</td><td>2</td><td>3</td>\n",
    "      </tr>\n",
    "      <tr>\n",
    "        <td>1</td><td>1</td><td>1</td>\n",
    "        <td>0</td><td>1</td><td>2</td>\n",
    "        <td>1</td><td>2</td><td>3</td>\n",
    "      </tr>\n",
    "    </table>\n",
    "  </div>\n",
    "\n",
    "  <div class=\"section\">\n",
    "    <div class=\"equation\">np.arange(3).reshape((3,1)) + np.arange(3)</div>\n",
    "    <table>\n",
    "      <tr>\n",
    "        <td>0</td>\n",
    "        <td rowspan=\"3\" style=\"border: none;\">+</td>\n",
    "        <td>0</td><td>1</td><td>2</td>\n",
    "        <td rowspan=\"3\" style=\"border: none;\">=</td>\n",
    "        <td>0</td><td>1</td><td>2</td>\n",
    "      </tr>\n",
    "      <tr>\n",
    "        <td>1</td>\n",
    "        <td>0</td><td>1</td><td>2</td>\n",
    "        <td>1</td><td>2</td><td>3</td>\n",
    "      </tr>\n",
    "      <tr>\n",
    "        <td>2</td>\n",
    "        <td>0</td><td>1</td><td>2</td>\n",
    "        <td>2</td><td>3</td><td>4</td>\n",
    "      </tr>\n",
    "    </table>\n",
    "  </div>\n",
    "\n",
    "  <div class=\"caption\">\n",
    "    Figure: Visualization of NumPy broadcasting (adapted from a source published in the <a href=\"http://www.astroml.org\" target=\"_blank\">astroML documentation</a> and used with permission)\n",
    "  </div>\n",
    "\n",
    "</body>\n",
    "</html>\n"
   ]
  },
  {
   "cell_type": "markdown",
   "id": "07533df3",
   "metadata": {},
   "source": [
    "## Rules of Broadcasting"
   ]
  },
  {
   "cell_type": "markdown",
   "id": "92cfea65",
   "metadata": {},
   "source": [
    "<p>Broadcasting in NumPy follows a strict set of rules to determine the interaction between the two arrays:</p>\n",
    "\n",
    "<div>\n",
    "  <p style=\"font-family: 'Times New Roman', serif; font-style: italic;\">Rule 1</p>\n",
    "  <pre style=\"margin-left: 2em;\">\n",
    "If the two arrays differ in their number of dimensions, \n",
    "the shape of the one with the fewer dimensions is padded \n",
    "with ones on its leading (left) side.\n",
    "  </pre>\n",
    "  <p style=\"font-family: 'Times New Roman', serif; font-style: italic;\">Rule 2</p>\n",
    "  <pre style=\"margin-left: 2em;\">\n",
    "If the shape of the two arrays does not match in any dimansion, \n",
    "the array with shape equal to 1 in that dimension is stretched \n",
    "to match other spahe.\n",
    "  </pre>\n",
    "  <p style=\"font-family: 'Time New Roman', serif; font-style: italic;\"> Rule 3</p>\n",
    "  <pre style=\"margin-left: 2em;\">\n",
    "If in any dimension the sizes disagree and neither is equal to 1, \n",
    "an error is raised.\n",
    "  </pre>\n",
    "</div>"
   ]
  },
  {
   "cell_type": "markdown",
   "id": "3503b716",
   "metadata": {},
   "source": [
    "<b> Broadcasting Example 1</b>"
   ]
  },
  {
   "cell_type": "code",
   "execution_count": 206,
   "id": "3163c9ed",
   "metadata": {},
   "outputs": [],
   "source": [
    "#Suppose we want to add two-dim array to one-dim array:\n",
    "M = np.array([[1,3,4],\n",
    "              [2, 5, 6]])\n",
    "a = np.arange(3)"
   ]
  },
  {
   "cell_type": "markdown",
   "id": "615a7e55",
   "metadata": {},
   "source": [
    "<div style=\"font-family: Georgia, serif; line-height: 1.7; font-size: 16px;\">\n",
    "\n",
    "  <p>\n",
    "    Let’s consider an operation on these two arrays, which have the following shapes:\n",
    "  </p>\n",
    "\n",
    "  <ul>\n",
    "    <li><code>M.shape</code> is <code>(2, 3)</code></li>\n",
    "    <li><code>a.shape</code> is <code>(3,)</code></li>\n",
    "  </ul>\n",
    "\n",
    "  <p>\n",
    "    We see by rule 1 that the array <code>a</code> has fewer dimensions, so we pad it on the left with ones:\n",
    "  </p>\n",
    "\n",
    "  <ul>\n",
    "    <li><code>M.shape</code> remains <code>(2, 3)</code></li>\n",
    "    <li><code>a.shape</code> becomes <code>(1, 3)</code></li>\n",
    "  </ul>\n",
    "\n",
    "  <p>\n",
    "    By rule 2, we now see that the first dimension disagrees, so we stretch this dimension to match:\n",
    "  </p>\n",
    "\n",
    "  <ul>\n",
    "    <li><code>M.shape</code> remains <code>(2, 3)</code></li>\n",
    "    <li><code>a.shape</code> becomes <code>(2, 3)</code></li>\n",
    "  </ul>\n",
    "\n",
    "  <p>\n",
    "    The shapes now match, and we see that the final shape will be <code>(2, 3)</code>:\n",
    "  </p>\n",
    "\n",
    "</div>\n"
   ]
  },
  {
   "cell_type": "code",
   "execution_count": 207,
   "id": "68dc4f1b",
   "metadata": {},
   "outputs": [
    {
     "data": {
      "text/plain": [
       "array([[1, 4, 6],\n",
       "       [2, 6, 8]])"
      ]
     },
     "execution_count": 207,
     "metadata": {},
     "output_type": "execute_result"
    }
   ],
   "source": [
    "M + a"
   ]
  },
  {
   "cell_type": "markdown",
   "id": "60dd167d",
   "metadata": {},
   "source": [
    "<b> Broadcasting Example 2"
   ]
  },
  {
   "cell_type": "code",
   "execution_count": 208,
   "id": "f81ed1b2",
   "metadata": {},
   "outputs": [
    {
     "data": {
      "text/plain": [
       "(array([[0],\n",
       "        [1],\n",
       "        [2]]),\n",
       " array([0, 1, 2]))"
      ]
     },
     "execution_count": 208,
     "metadata": {},
     "output_type": "execute_result"
    }
   ],
   "source": [
    "a = np.arange(3).reshape((3,1))\n",
    "b = np.arange(3)\n",
    "a, b"
   ]
  },
  {
   "cell_type": "markdown",
   "id": "e2a5f3db",
   "metadata": {},
   "source": [
    "<div style=\"font-family: Georgia, serif; line-height: 1.7; font-size: 16px;\">\n",
    "\n",
    "  <p>\n",
    "    Again, we’ll start by determining the shapes of the arrays:\n",
    "  </p>\n",
    "\n",
    "  <ul>\n",
    "    <li><code>a.shape</code> is <code>(3, 1)</code></li>\n",
    "    <li><code>b.shape</code> is <code>(3,)</code></li>\n",
    "  </ul>\n",
    "\n",
    "  <p>\n",
    "    Rule 1 says we must pad the shape of <code>b</code> with ones:\n",
    "  </p>\n",
    "\n",
    "  <ul>\n",
    "    <li><code>a.shape</code> remains <code>(3, 1)</code></li>\n",
    "    <li><code>b.shape</code> becomes <code>(1, 3)</code></li>\n",
    "  </ul>\n",
    "\n",
    "  <p>\n",
    "    And rule 2 tells us that we must upgrade each of these 1s to match the corresponding size of the other array:\n",
    "  </p>\n",
    "\n",
    "  <ul>\n",
    "    <li><code>a.shape</code> becomes <code>(3, 3)</code></li>\n",
    "    <li><code>b.shape</code> becomes <code>(3, 3)</code></li>\n",
    "  </ul>\n",
    "\n",
    "  <p>\n",
    "    Because the results match, these shapes are compatible. We can see this here:\n",
    "  </p>\n",
    "\n",
    "</div>\n"
   ]
  },
  {
   "cell_type": "code",
   "execution_count": 209,
   "id": "50e3271d",
   "metadata": {},
   "outputs": [
    {
     "data": {
      "text/plain": [
       "array([[0, 1, 2],\n",
       "       [1, 2, 3],\n",
       "       [2, 3, 4]])"
      ]
     },
     "execution_count": 209,
     "metadata": {},
     "output_type": "execute_result"
    }
   ],
   "source": [
    "a + b"
   ]
  },
  {
   "cell_type": "markdown",
   "id": "d0dd993f",
   "metadata": {},
   "source": [
    "<b> Broadcasting Example 3"
   ]
  },
  {
   "cell_type": "code",
   "execution_count": 210,
   "id": "d263a39c",
   "metadata": {},
   "outputs": [
    {
     "data": {
      "text/plain": [
       "((3, 2), (3,))"
      ]
     },
     "execution_count": 210,
     "metadata": {},
     "output_type": "execute_result"
    }
   ],
   "source": [
    "M = np.ones((3,2))\n",
    "a = np.arange(3)\n",
    "M.shape, a.shape"
   ]
  },
  {
   "cell_type": "markdown",
   "id": "ab51d37d",
   "metadata": {},
   "source": [
    "<div style=\"font-family: Georgia, serif; line-height: 1.7; font-size: 16px;\">\n",
    "\n",
    "  <p>\n",
    "    This is just a slightly different situation than in the first example: the matrix <code>M</code> is transposed.\n",
    "    How does this affect the calculation? The shapes of the arrays are as follows:\n",
    "  </p>\n",
    "\n",
    "  <ul>\n",
    "    <li><code>M.shape</code> is <code>(3, 2)</code></li>\n",
    "    <li><code>a.shape</code> is <code>(3,)</code></li>\n",
    "  </ul>\n",
    "\n",
    "  <p>\n",
    "    Again, rule 1 tells us that we must pad the shape of <code>a</code> with ones:\n",
    "  </p>\n",
    "\n",
    "  <ul>\n",
    "    <li><code>M.shape</code> remains <code>(3, 2)</code></li>\n",
    "    <li><code>a.shape</code> becomes <code>(1, 3)</code></li>\n",
    "  </ul>\n",
    "\n",
    "  <p>\n",
    "    By rule 2, the first dimension of <code>a</code> is then stretched to match that of <code>M</code>:\n",
    "  </p>\n",
    "\n",
    "  <ul>\n",
    "    <li><code>M.shape</code> remains <code>(3, 2)</code></li>\n",
    "    <li><code>a.shape</code> becomes <code>(3, 3)</code></li>\n",
    "  </ul>\n",
    "\n",
    "  <p>\n",
    "    Now we hit <strong>rule 3</strong>—the final shapes do not match, so these two arrays are\n",
    "    <strong>incompatible</strong>, as we can observe by attempting this operation:\n",
    "  </p>\n",
    "\n",
    "</div>\n"
   ]
  },
  {
   "cell_type": "code",
   "execution_count": 211,
   "id": "a570a294",
   "metadata": {},
   "outputs": [
    {
     "ename": "ValueError",
     "evalue": "operands could not be broadcast together with shapes (3,2) (3,) ",
     "output_type": "error",
     "traceback": [
      "\u001b[0;31m---------------------------------------------------------------------------\u001b[0m",
      "\u001b[0;31mValueError\u001b[0m                                Traceback (most recent call last)",
      "Cell \u001b[0;32mIn[211], line 1\u001b[0m\n\u001b[0;32m----> 1\u001b[0m M\u001b[38;5;241m+\u001b[39ma\n",
      "\u001b[0;31mValueError\u001b[0m: operands could not be broadcast together with shapes (3,2) (3,) "
     ]
    }
   ],
   "source": [
    "M+a # will gives an error"
   ]
  },
  {
   "cell_type": "markdown",
   "id": "566f0f4c",
   "metadata": {},
   "source": [
    "# <b> PART 5: Comparisons, Masks, and Boolean Logic"
   ]
  },
  {
   "cell_type": "markdown",
   "id": "c3bbe93d",
   "metadata": {},
   "source": [
    "## Example: Counting Rainy Days"
   ]
  },
  {
   "cell_type": "code",
   "execution_count": null,
   "id": "9220196a",
   "metadata": {},
   "outputs": [
    {
     "name": "stdout",
     "output_type": "stream",
     "text": [
      "Collecting vega_datasets\n",
      "  Downloading vega_datasets-0.9.0-py3-none-any.whl.metadata (5.5 kB)\n",
      "Requirement already satisfied: pandas in /opt/anaconda3/lib/python3.12/site-packages (from vega_datasets) (2.2.2)\n",
      "Requirement already satisfied: numpy>=1.26.0 in /opt/anaconda3/lib/python3.12/site-packages (from pandas->vega_datasets) (1.26.4)\n",
      "Requirement already satisfied: python-dateutil>=2.8.2 in /opt/anaconda3/lib/python3.12/site-packages (from pandas->vega_datasets) (2.9.0.post0)\n",
      "Requirement already satisfied: pytz>=2020.1 in /opt/anaconda3/lib/python3.12/site-packages (from pandas->vega_datasets) (2024.1)\n",
      "Requirement already satisfied: tzdata>=2022.7 in /opt/anaconda3/lib/python3.12/site-packages (from pandas->vega_datasets) (2023.3)\n",
      "Requirement already satisfied: six>=1.5 in /opt/anaconda3/lib/python3.12/site-packages (from python-dateutil>=2.8.2->pandas->vega_datasets) (1.16.0)\n",
      "Downloading vega_datasets-0.9.0-py3-none-any.whl (210 kB)\n",
      "Installing collected packages: vega_datasets\n",
      "Successfully installed vega_datasets-0.9.0\n"
     ]
    }
   ],
   "source": [
    "!pip install vega_datasets"
   ]
  },
  {
   "cell_type": "code",
   "execution_count": null,
   "id": "a3495b99",
   "metadata": {},
   "outputs": [],
   "source": [
    "import numpy as np\n",
    "from vega_datasets import data"
   ]
  },
  {
   "cell_type": "code",
   "execution_count": null,
   "id": "60680f93",
   "metadata": {},
   "outputs": [
    {
     "data": {
      "text/plain": [
       "365"
      ]
     },
     "execution_count": 234,
     "metadata": {},
     "output_type": "execute_result"
    }
   ],
   "source": [
    "# Use DataFrame operations to extract rainfall as Numpy array\n",
    "rainfall_mm = np.array(\n",
    "    data.seattle_weather().set_index('date')['precipitation']['2015']\n",
    ")\n",
    "len(rainfall_mm)"
   ]
  },
  {
   "cell_type": "code",
   "execution_count": null,
   "id": "dc29d060",
   "metadata": {},
   "outputs": [
    {
     "data": {
      "image/png": "[encoded data removed]",
      "text/plain": [
       "<Figure size 640x480 with 1 Axes>"
      ]
     },
     "metadata": {},
     "output_type": "display_data"
    }
   ],
   "source": [
    "import matplotlib.pyplot as plt\n",
    "plt.hist(rainfall_mm, 40)\n",
    "plt.show()"
   ]
  },
  {
   "cell_type": "markdown",
   "id": "fe4ff441",
   "metadata": {},
   "source": [
    "## Comparison Operators as Ufuncs"
   ]
  },
  {
   "cell_type": "code",
   "execution_count": null,
   "id": "7150c1db",
   "metadata": {},
   "outputs": [
    {
     "name": "stdout",
     "output_type": "stream",
     "text": [
      "[ True  True False False False]\n",
      "[False False False  True  True]\n",
      "[ True  True  True False False]\n",
      "[False False  True  True  True]\n",
      "[ True  True False  True  True]\n",
      "[False False  True False False]\n"
     ]
    }
   ],
   "source": [
    "x = np.array([1,2,3,4,5])\n",
    "print(x<3)\n",
    "print(x>3)\n",
    "print(x<=3)\n",
    "print(x>=3)\n",
    "print(x!=3)\n",
    "print(x==3)"
   ]
  },
  {
   "cell_type": "code",
   "execution_count": null,
   "id": "51f94c63",
   "metadata": {},
   "outputs": [
    {
     "data": {
      "text/plain": [
       "array([False,  True, False, False, False])"
      ]
     },
     "execution_count": 242,
     "metadata": {},
     "output_type": "execute_result"
    }
   ],
   "source": [
    "(2*x) == (x**2)"
   ]
  },
  {
   "cell_type": "markdown",
   "id": "b9e7dd98",
   "metadata": {},
   "source": [
    "## Working with Boolean Arrays"
   ]
  },
  {
   "cell_type": "code",
   "execution_count": null,
   "id": "d68aa681",
   "metadata": {},
   "outputs": [
    {
     "data": {
      "text/plain": [
       "array([[9, 4, 0, 3],\n",
       "       [8, 6, 3, 1],\n",
       "       [3, 7, 4, 0]])"
      ]
     },
     "execution_count": 243,
     "metadata": {},
     "output_type": "execute_result"
    }
   ],
   "source": [
    "rng = np.random.default_rng(seed = 1701)\n",
    "x = rng.integers(10, size=(3,4))\n",
    "x"
   ]
  },
  {
   "cell_type": "markdown",
   "id": "0a2adc4b",
   "metadata": {},
   "source": [
    "<b>Counting Endtries"
   ]
  },
  {
   "cell_type": "code",
   "execution_count": null,
   "id": "bdda2928",
   "metadata": {},
   "outputs": [
    {
     "data": {
      "text/plain": [
       "8"
      ]
     },
     "execution_count": 244,
     "metadata": {},
     "output_type": "execute_result"
    }
   ],
   "source": [
    "# How many values less than 6\n",
    "np.count_nonzero(x<6)"
   ]
  },
  {
   "cell_type": "code",
   "execution_count": null,
   "id": "a6dd4a64",
   "metadata": {},
   "outputs": [
    {
     "data": {
      "text/plain": [
       "8"
      ]
     },
     "execution_count": 246,
     "metadata": {},
     "output_type": "execute_result"
    }
   ],
   "source": [
    "# Another way to get this information\n",
    "np.sum(x<6)"
   ]
  },
  {
   "cell_type": "code",
   "execution_count": null,
   "id": "c543416f",
   "metadata": {},
   "outputs": [
    {
     "data": {
      "text/plain": [
       "array([3, 2, 3])"
      ]
     },
     "execution_count": 247,
     "metadata": {},
     "output_type": "execute_result"
    }
   ],
   "source": [
    "# How manyu values less than 6 in eatch row?\n",
    "np.sum(x<6, axis = 1)"
   ]
  },
  {
   "cell_type": "markdown",
   "id": "0c8c8a4a",
   "metadata": {},
   "source": [
    "If we're interested in quickly checking whether any or all the values are Ture, we can use <b> np.any</b> or <b> np.all:"
   ]
  },
  {
   "cell_type": "code",
   "execution_count": null,
   "id": "74441ea6",
   "metadata": {},
   "outputs": [
    {
     "data": {
      "text/plain": [
       "True"
      ]
     },
     "execution_count": 248,
     "metadata": {},
     "output_type": "execute_result"
    }
   ],
   "source": [
    "np.any(x>8)"
   ]
  },
  {
   "cell_type": "code",
   "execution_count": null,
   "id": "dee6be9b",
   "metadata": {},
   "outputs": [
    {
     "data": {
      "text/plain": [
       "False"
      ]
     },
     "execution_count": 249,
     "metadata": {},
     "output_type": "execute_result"
    }
   ],
   "source": [
    "np.any(x<0)"
   ]
  },
  {
   "cell_type": "code",
   "execution_count": null,
   "id": "25c076e4",
   "metadata": {},
   "outputs": [
    {
     "data": {
      "text/plain": [
       "True"
      ]
     },
     "execution_count": 250,
     "metadata": {},
     "output_type": "execute_result"
    }
   ],
   "source": [
    "np.all(x<10)"
   ]
  },
  {
   "cell_type": "code",
   "execution_count": null,
   "id": "3702686d",
   "metadata": {},
   "outputs": [
    {
     "data": {
      "text/plain": [
       "False"
      ]
     },
     "execution_count": 251,
     "metadata": {},
     "output_type": "execute_result"
    }
   ],
   "source": [
    "np.all(x==6)"
   ]
  },
  {
   "cell_type": "code",
   "execution_count": null,
   "id": "9abe715e",
   "metadata": {},
   "outputs": [
    {
     "data": {
      "text/plain": [
       "array([False, False,  True])"
      ]
     },
     "execution_count": 253,
     "metadata": {},
     "output_type": "execute_result"
    }
   ],
   "source": [
    "np.all(x<8, axis = 1)"
   ]
  },
  {
   "cell_type": "markdown",
   "id": "c95a8be3",
   "metadata": {},
   "source": [
    "<b> Boolean Operations"
   ]
  },
  {
   "cell_type": "code",
   "execution_count": null,
   "id": "dcd1f5ac",
   "metadata": {},
   "outputs": [
    {
     "data": {
      "text/plain": [
       "16"
      ]
     },
     "execution_count": 254,
     "metadata": {},
     "output_type": "execute_result"
    }
   ],
   "source": [
    "np.sum((rainfall_mm > 10) & (rainfall_mm < 20))"
   ]
  },
  {
   "cell_type": "code",
   "execution_count": null,
   "id": "198895ee",
   "metadata": {},
   "outputs": [
    {
     "data": {
      "text/plain": [
       "16"
      ]
     },
     "execution_count": 257,
     "metadata": {},
     "output_type": "execute_result"
    }
   ],
   "source": [
    "np.sum(~((rainfall_mm <= 10) | (rainfall_mm >= 20)))"
   ]
  },
  {
   "cell_type": "markdown",
   "id": "fc4289c7",
   "metadata": {},
   "source": [
    "<table border=\"1\" cellpadding=\"8\" cellspacing=\"0\" style=\"border-collapse: collapse; font-family: monospace; text-align: left;\">\n",
    "  <thead style=\"background-color: black; color: white;\">\n",
    "    <tr>\n",
    "      <th>Operator</th>\n",
    "      <th>Equivalent ufunc</th>\n",
    "      <th>Operator</th>\n",
    "      <th>Equivalent ufunc</th>\n",
    "    </tr>\n",
    "  </thead>\n",
    "  <tbody>\n",
    "    <tr>\n",
    "      <td>&amp;</td>\n",
    "      <td>np.bitwise_and</td>\n",
    "      <td>|</td>\n",
    "      <td>np.bitwise_or</td>\n",
    "    </tr>\n",
    "    <tr>\n",
    "      <td>^</td>\n",
    "      <td>np.bitwise_xor</td>\n",
    "      <td>~</td>\n",
    "      <td>np.bitwise_not</td>\n",
    "    </tr>\n",
    "  </tbody>\n",
    "</table>\n"
   ]
  },
  {
   "cell_type": "code",
   "execution_count": null,
   "id": "ec582376",
   "metadata": {},
   "outputs": [
    {
     "name": "stdout",
     "output_type": "stream",
     "text": [
      "Number days without rain:  221\n",
      "Number days with rain:  144\n",
      "Days with more than 10 mm:  34\n",
      "Rainy days with < 5 mm:  83\n"
     ]
    }
   ],
   "source": [
    "print(\"Number days without rain: \", np.sum(rainfall_mm == 0))\n",
    "print(\"Number days with rain: \", np.sum(rainfall_mm != 0))\n",
    "print(\"Days with more than 10 mm: \", np.sum(rainfall_mm > 10))\n",
    "print(\"Rainy days with < 5 mm: \", np.sum((rainfall_mm > 0) & (rainfall_mm < 5)))"
   ]
  },
  {
   "cell_type": "markdown",
   "id": "089bd067",
   "metadata": {},
   "source": [
    "## Boolean Arrays as Masks"
   ]
  },
  {
   "cell_type": "code",
   "execution_count": null,
   "id": "b7cc13ce",
   "metadata": {},
   "outputs": [
    {
     "data": {
      "text/plain": [
       "array([[9, 4, 0, 3],\n",
       "       [8, 6, 3, 1],\n",
       "       [3, 7, 4, 0]])"
      ]
     },
     "execution_count": 259,
     "metadata": {},
     "output_type": "execute_result"
    }
   ],
   "source": [
    "x"
   ]
  },
  {
   "cell_type": "code",
   "execution_count": null,
   "id": "aa7c9818",
   "metadata": {},
   "outputs": [
    {
     "data": {
      "text/plain": [
       "array([[False,  True,  True,  True],\n",
       "       [False, False,  True,  True],\n",
       "       [ True, False,  True,  True]])"
      ]
     },
     "execution_count": 260,
     "metadata": {},
     "output_type": "execute_result"
    }
   ],
   "source": [
    "x<5"
   ]
  },
  {
   "cell_type": "markdown",
   "id": "86a5c5df",
   "metadata": {},
   "source": [
    "Now to select these values from the array, we can simply index on this Boolean array; this is known as <i><b>masking</b></i> operation:"
   ]
  },
  {
   "cell_type": "code",
   "execution_count": null,
   "id": "36f9a260",
   "metadata": {},
   "outputs": [
    {
     "data": {
      "text/plain": [
       "array([4, 0, 3, 3, 1, 3, 4, 0])"
      ]
     },
     "execution_count": 261,
     "metadata": {},
     "output_type": "execute_result"
    }
   ],
   "source": [
    "x[x<5]"
   ]
  },
  {
   "cell_type": "markdown",
   "id": "6e29e2bf",
   "metadata": {},
   "source": [
    "## Using the keybwords and/or Verus the Operators &/|"
   ]
  },
  {
   "cell_type": "code",
   "execution_count": null,
   "id": "a4539617",
   "metadata": {},
   "outputs": [
    {
     "data": {
      "text/plain": [
       "(True, False)"
      ]
     },
     "execution_count": 266,
     "metadata": {},
     "output_type": "execute_result"
    }
   ],
   "source": [
    "bool(42), bool(0)"
   ]
  },
  {
   "cell_type": "code",
   "execution_count": null,
   "id": "ab04fc6c",
   "metadata": {},
   "outputs": [
    {
     "data": {
      "text/plain": [
       "False"
      ]
     },
     "execution_count": 267,
     "metadata": {},
     "output_type": "execute_result"
    }
   ],
   "source": [
    "bool(42 and 0)"
   ]
  },
  {
   "cell_type": "code",
   "execution_count": null,
   "id": "686817c0",
   "metadata": {},
   "outputs": [
    {
     "data": {
      "text/plain": [
       "True"
      ]
     },
     "execution_count": 268,
     "metadata": {},
     "output_type": "execute_result"
    }
   ],
   "source": [
    "bool(42 or 0)"
   ]
  },
  {
   "cell_type": "markdown",
   "id": "be230d09",
   "metadata": {},
   "source": [
    "When we use & and | on integets, the expression operates on the bitwise representation of the element, applying the <b>and</b> or the <b>or</b> to the individual bits making up the number:"
   ]
  },
  {
   "cell_type": "code",
   "execution_count": null,
   "id": "53ce0aaf",
   "metadata": {},
   "outputs": [
    {
     "data": {
      "text/plain": [
       "('0b101010', '0b111011')"
      ]
     },
     "execution_count": 270,
     "metadata": {},
     "output_type": "execute_result"
    }
   ],
   "source": [
    "bin(42), bin(59)"
   ]
  },
  {
   "cell_type": "code",
   "execution_count": null,
   "id": "4f60dc8e",
   "metadata": {},
   "outputs": [
    {
     "data": {
      "text/plain": [
       "'0b101010'"
      ]
     },
     "execution_count": 271,
     "metadata": {},
     "output_type": "execute_result"
    }
   ],
   "source": [
    "bin(42 & 59)"
   ]
  },
  {
   "cell_type": "code",
   "execution_count": null,
   "id": "d11ee941",
   "metadata": {},
   "outputs": [
    {
     "data": {
      "text/plain": [
       "'0b111011'"
      ]
     },
     "execution_count": 272,
     "metadata": {},
     "output_type": "execute_result"
    }
   ],
   "source": [
    "bin(42|59)"
   ]
  },
  {
   "cell_type": "code",
   "execution_count": null,
   "id": "52e2ea3f",
   "metadata": {},
   "outputs": [
    {
     "data": {
      "text/plain": [
       "array([ True,  True,  True, False,  True,  True])"
      ]
     },
     "execution_count": 276,
     "metadata": {},
     "output_type": "execute_result"
    }
   ],
   "source": [
    "A = np.array([1,0,1,0,1,0], dtype=bool)\n",
    "B = np.array([1,1,1,0,1,1], dtype=bool)\n",
    "A | B"
   ]
  },
  {
   "cell_type": "markdown",
   "id": "642896f6",
   "metadata": {},
   "source": [
    "But if yo uuse <b>or</b> on these arrays it will try to evaluate the truth or falsehood of the entire array object, which is not a well-defined value:"
   ]
  },
  {
   "cell_type": "code",
   "execution_count": null,
   "id": "d0a6973d",
   "metadata": {},
   "outputs": [
    {
     "ename": "ValueError",
     "evalue": "The truth value of an array with more than one element is ambiguous. Use a.any() or a.all()",
     "output_type": "error",
     "traceback": [
      "\u001b[0;31m---------------------------------------------------------------------------\u001b[0m",
      "\u001b[0;31mValueError\u001b[0m                                Traceback (most recent call last)",
      "Cell \u001b[0;32mIn[278], line 1\u001b[0m\n\u001b[0;32m----> 1\u001b[0m A \u001b[38;5;129;01mor\u001b[39;00m B\n",
      "\u001b[0;31mValueError\u001b[0m: The truth value of an array with more than one element is ambiguous. Use a.any() or a.all()"
     ]
    }
   ],
   "source": [
    "A or B # Waring: Shows error"
   ]
  },
  {
   "cell_type": "code",
   "execution_count": 214,
   "id": "592529d4",
   "metadata": {},
   "outputs": [
    {
     "data": {
      "text/plain": [
       "array([False, False, False, False, False,  True,  True,  True, False,\n",
       "       False])"
      ]
     },
     "execution_count": 214,
     "metadata": {},
     "output_type": "execute_result"
    }
   ],
   "source": [
    "x = np.arange(10)\n",
    "(x>4) & (x<8)"
   ]
  },
  {
   "cell_type": "code",
   "execution_count": 215,
   "id": "6213d0bc",
   "metadata": {},
   "outputs": [
    {
     "ename": "ValueError",
     "evalue": "The truth value of an array with more than one element is ambiguous. Use a.any() or a.all()",
     "output_type": "error",
     "traceback": [
      "\u001b[0;31m---------------------------------------------------------------------------\u001b[0m",
      "\u001b[0;31mValueError\u001b[0m                                Traceback (most recent call last)",
      "Cell \u001b[0;32mIn[215], line 1\u001b[0m\n\u001b[0;32m----> 1\u001b[0m (x\u001b[38;5;241m>\u001b[39m\u001b[38;5;241m4\u001b[39m) \u001b[38;5;129;01mand\u001b[39;00m (x\u001b[38;5;241m<\u001b[39m\u001b[38;5;241m8\u001b[39m)\n",
      "\u001b[0;31mValueError\u001b[0m: The truth value of an array with more than one element is ambiguous. Use a.any() or a.all()"
     ]
    }
   ],
   "source": [
    "(x>4) and (x<8) # warning genarate error"
   ]
  },
  {
   "cell_type": "markdown",
   "id": "2b751262",
   "metadata": {},
   "source": [
    "# <B> PART 6: Fancy Indexing"
   ]
  },
  {
   "cell_type": "markdown",
   "id": "e4d0c3d1",
   "metadata": {},
   "source": [
    "## Exploring Fancy Indexing"
   ]
  },
  {
   "cell_type": "code",
   "execution_count": 216,
   "id": "d5e9992c",
   "metadata": {},
   "outputs": [
    {
     "name": "stdout",
     "output_type": "stream",
     "text": [
      "[90 40  9 30 80 67 39 15 33 79]\n"
     ]
    }
   ],
   "source": [
    "import numpy as np\n",
    "rng = np.random.default_rng(seed = 1701)\n",
    "\n",
    "x = rng.integers(100, size=10)\n",
    "print(x)"
   ]
  },
  {
   "cell_type": "code",
   "execution_count": 217,
   "id": "7b6a9d40",
   "metadata": {},
   "outputs": [
    {
     "data": {
      "text/plain": [
       "[30, 15, 15]"
      ]
     },
     "execution_count": 217,
     "metadata": {},
     "output_type": "execute_result"
    }
   ],
   "source": [
    "[x[3], x[7], x[7]]"
   ]
  },
  {
   "cell_type": "code",
   "execution_count": 218,
   "id": "d8af7a65",
   "metadata": {},
   "outputs": [
    {
     "data": {
      "text/plain": [
       "array([30, 15, 80])"
      ]
     },
     "execution_count": 218,
     "metadata": {},
     "output_type": "execute_result"
    }
   ],
   "source": [
    "ind = [3,7,4]\n",
    "x[ind]"
   ]
  },
  {
   "cell_type": "markdown",
   "id": "b028d219",
   "metadata": {},
   "source": [
    "When using arrays of indices, the shape of the result reflects the shape of the indes arrays rather than the sape of the array being indexed:"
   ]
  },
  {
   "cell_type": "code",
   "execution_count": 219,
   "id": "46592988",
   "metadata": {},
   "outputs": [
    {
     "data": {
      "text/plain": [
       "array([[30, 15],\n",
       "       [80, 67]])"
      ]
     },
     "execution_count": 219,
     "metadata": {},
     "output_type": "execute_result"
    }
   ],
   "source": [
    "ind = np.array([[3,7],\n",
    "                [4,5]])\n",
    "x[ind]"
   ]
  },
  {
   "cell_type": "markdown",
   "id": "72fd4639",
   "metadata": {},
   "source": [
    "Fancy indexcing also works in multiple dimensionis."
   ]
  },
  {
   "cell_type": "code",
   "execution_count": 220,
   "id": "b5d6d585",
   "metadata": {},
   "outputs": [
    {
     "data": {
      "text/plain": [
       "array([[ 0,  1,  2,  3],\n",
       "       [ 4,  5,  6,  7],\n",
       "       [ 8,  9, 10, 11]])"
      ]
     },
     "execution_count": 220,
     "metadata": {},
     "output_type": "execute_result"
    }
   ],
   "source": [
    "x = np.arange(12).reshape((3,4))\n",
    "x"
   ]
  },
  {
   "cell_type": "code",
   "execution_count": 221,
   "id": "0e40d4b2",
   "metadata": {},
   "outputs": [
    {
     "data": {
      "text/plain": [
       "array([ 2,  5, 11])"
      ]
     },
     "execution_count": 221,
     "metadata": {},
     "output_type": "execute_result"
    }
   ],
   "source": [
    "row = np.array([0,1,2])\n",
    "col = np.array([2,1,3])\n",
    "x[row, col]"
   ]
  },
  {
   "cell_type": "markdown",
   "id": "a3ee4ccc",
   "metadata": {},
   "source": [
    "The pairing of indices in fancy indexing follows all the broadcasting rules. So, for example, if we combine a column vector and a row vector within the indices, we get a two-dimensional reslult:"
   ]
  },
  {
   "cell_type": "code",
   "execution_count": 222,
   "id": "72860c78",
   "metadata": {},
   "outputs": [
    {
     "data": {
      "text/plain": [
       "array([[ 2,  1,  3],\n",
       "       [ 6,  5,  7],\n",
       "       [10,  9, 11]])"
      ]
     },
     "execution_count": 222,
     "metadata": {},
     "output_type": "execute_result"
    }
   ],
   "source": [
    "x[row[:,np.newaxis], col]"
   ]
  },
  {
   "cell_type": "markdown",
   "id": "b5cccc68",
   "metadata": {},
   "source": [
    "## Combined Indexing"
   ]
  },
  {
   "cell_type": "markdown",
   "id": "dc3daa23",
   "metadata": {},
   "source": [
    "For even more powerful operation, fancy indexing can be combined with the other indexing schemes we've seen. For example, given the array x:"
   ]
  },
  {
   "cell_type": "code",
   "execution_count": 223,
   "id": "2f6be3a6",
   "metadata": {},
   "outputs": [
    {
     "name": "stdout",
     "output_type": "stream",
     "text": [
      "[[ 0  1  2  3]\n",
      " [ 4  5  6  7]\n",
      " [ 8  9 10 11]]\n"
     ]
    }
   ],
   "source": [
    "print(x)"
   ]
  },
  {
   "cell_type": "markdown",
   "id": "afed691c",
   "metadata": {},
   "source": [
    "we can combine fancy and simple indices:"
   ]
  },
  {
   "cell_type": "code",
   "execution_count": 224,
   "id": "4246a9ea",
   "metadata": {},
   "outputs": [
    {
     "data": {
      "text/plain": [
       "array([10,  8,  9])"
      ]
     },
     "execution_count": 224,
     "metadata": {},
     "output_type": "execute_result"
    }
   ],
   "source": [
    "x[2, [2,0,1]]"
   ]
  },
  {
   "cell_type": "code",
   "execution_count": 225,
   "id": "5b746fcf",
   "metadata": {},
   "outputs": [
    {
     "data": {
      "text/plain": [
       "array([[ 6,  4,  5],\n",
       "       [10,  8,  9]])"
      ]
     },
     "execution_count": 225,
     "metadata": {},
     "output_type": "execute_result"
    }
   ],
   "source": [
    "x[1:, [2,0,1]]"
   ]
  },
  {
   "cell_type": "code",
   "execution_count": 226,
   "id": "8264c7df",
   "metadata": {},
   "outputs": [
    {
     "data": {
      "text/plain": [
       "array([[ 0,  2],\n",
       "       [ 4,  6],\n",
       "       [ 8, 10]])"
      ]
     },
     "execution_count": 226,
     "metadata": {},
     "output_type": "execute_result"
    }
   ],
   "source": [
    "mask = np.array([True,False, True, False])\n",
    "x[row[:, np.newaxis], mask]"
   ]
  },
  {
   "cell_type": "markdown",
   "id": "f0aaad61",
   "metadata": {},
   "source": [
    "## Example: Selecting Random Points"
   ]
  },
  {
   "cell_type": "markdown",
   "id": "eb8f2ca8",
   "metadata": {},
   "source": [
    "One common use of fancy indexing is the selection of subsets of rows from a matrix. For example, we might have an N x D matrix representing N points in D dimensions, such as the following points drawn from a two- dimensional normal distribution:"
   ]
  },
  {
   "cell_type": "code",
   "execution_count": 227,
   "id": "2bef3f24",
   "metadata": {},
   "outputs": [
    {
     "name": "stdout",
     "output_type": "stream",
     "text": [
      "(100,)\n"
     ]
    },
    {
     "data": {
      "text/plain": [
       "array([-1.62453268,  1.50806312, -1.22449846,  1.22696072, -1.05013046,\n",
       "        0.62509363,  0.09693023,  0.62776415, -0.28565182,  1.49678665,\n",
       "       -0.76768541, -0.3942867 , -1.35693505,  0.33524959,  0.57442768,\n",
       "        1.62016911,  0.33395176, -1.02906713, -0.94266623,  0.38365532,\n",
       "        0.25423793,  1.36108696,  1.25474959, -0.05637126,  0.44880896,\n",
       "       -1.47909513,  2.40254455, -0.06959272, -1.52752832,  1.93633419,\n",
       "       -1.28006351, -0.71562065,  0.72455605,  0.47362789, -0.33131697,\n",
       "        0.26272942,  1.75038031,  0.01834221, -1.43899931,  1.3716487 ,\n",
       "        0.67679557,  0.53793618,  1.53399445,  0.28214872,  0.56313954,\n",
       "       -0.37793941, -1.15832253,  0.96594187, -0.35611958, -1.28536874,\n",
       "        0.19742658,  0.41682623, -0.95386364,  0.75830441, -2.08596882,\n",
       "       -1.16203473,  0.34232684, -1.11888193, -1.13596   ,  0.6742499 ,\n",
       "        1.26767704,  0.65873509, -0.64003051,  3.09160717,  0.51595829,\n",
       "        0.61122253, -0.01723733,  0.3037547 ,  0.48345155,  1.31693828,\n",
       "        0.11558915, -1.71886929, -0.98511272,  0.42671049,  0.54159558,\n",
       "       -1.40923638, -0.38289913, -0.36361407,  0.51818448,  0.98517332,\n",
       "       -0.28010458,  0.48822092,  1.18871415,  2.35468027, -0.50254828,\n",
       "        0.72586398,  0.82359641,  0.12582911, -0.96702245,  0.16762368,\n",
       "       -0.25626375, -0.77984442,  0.73111879, -0.90911587,  2.5795842 ,\n",
       "        0.82092772, -1.15517027, -0.97122683, -0.17132741, -0.81601727])"
      ]
     },
     "execution_count": 227,
     "metadata": {},
     "output_type": "execute_result"
    }
   ],
   "source": [
    "mean = 0\n",
    "var = 1\n",
    "x = rng.normal(mean, var, 100) #this is x is like z-score\n",
    "print(x.shape)\n",
    "x"
   ]
  },
  {
   "cell_type": "code",
   "execution_count": 228,
   "id": "ae14e585",
   "metadata": {},
   "outputs": [
    {
     "name": "stdout",
     "output_type": "stream",
     "text": [
      "[-1.62453268  1.50806312 -1.22449846  1.22696072 -1.05013046  0.62509363\n",
      "  0.09693023  0.62776415 -0.28565182  1.49678665 -0.76768541 -0.3942867\n",
      " -1.35693505  0.33524959  0.57442768  1.62016911  0.33395176 -1.02906713\n",
      " -0.94266623  0.38365532  0.25423793  1.36108696  1.25474959 -0.05637126\n",
      "  0.44880896 -1.47909513  2.40254455 -0.06959272 -1.52752832  1.93633419\n",
      " -1.28006351 -0.71562065  0.72455605  0.47362789 -0.33131697  0.26272942\n",
      "  1.75038031  0.01834221 -1.43899931  1.3716487   0.67679557  0.53793618\n",
      "  1.53399445  0.28214872  0.56313954 -0.37793941 -1.15832253  0.96594187\n",
      " -0.35611958 -1.28536874  0.19742658  0.41682623 -0.95386364  0.75830441\n",
      " -2.08596882 -1.16203473  0.34232684 -1.11888193 -1.13596     0.6742499\n",
      "  1.26767704  0.65873509 -0.64003051  3.09160717  0.51595829  0.61122253\n",
      " -0.01723733  0.3037547   0.48345155  1.31693828  0.11558915 -1.71886929\n",
      " -0.98511272  0.42671049  0.54159558 -1.40923638 -0.38289913 -0.36361407\n",
      "  0.51818448  0.98517332 -0.28010458  0.48822092  1.18871415  2.35468027\n",
      " -0.50254828  0.72586398  0.82359641  0.12582911 -0.96702245  0.16762368\n",
      " -0.25626375 -0.77984442  0.73111879 -0.90911587  2.5795842   0.82092772\n",
      " -1.15517027 -0.97122683 -0.17132741 -0.81601727]\n",
      "\n",
      "0.11345804215930777\n"
     ]
    }
   ],
   "source": [
    "#another way to get random value to use random\n",
    "z = np.random.normal(mean, var, 20) \n",
    "print(x)\n",
    "print()\n",
    "print(x.mean()) #sample mean"
   ]
  },
  {
   "cell_type": "code",
   "execution_count": 229,
   "id": "3305c07f",
   "metadata": {},
   "outputs": [
    {
     "name": "stdout",
     "output_type": "stream",
     "text": [
      "[[-5.34031981e-01 -5.85417619e-01]\n",
      " [-1.63955400e+00 -4.54577650e+00]\n",
      " [ 8.69157425e-01  1.05136337e+00]\n",
      " [-2.48588812e+00 -5.42296100e+00]\n",
      " [ 7.94899718e-01  2.13159391e+00]\n",
      " [-4.36407775e-01  9.33100970e-01]\n",
      " [ 2.79594472e+00  6.33408633e+00]\n",
      " [-1.62721133e+00 -3.29227540e+00]\n",
      " [-1.59944090e+00 -3.74038295e+00]\n",
      " [-2.59751447e+00 -3.47995836e+00]\n",
      " [-1.41393471e+00 -3.66357845e+00]\n",
      " [ 2.32369408e-01  8.80859656e-01]\n",
      " [ 3.40511819e-02  7.32541387e-01]\n",
      " [ 2.23519164e+00  4.33266160e+00]\n",
      " [-3.31214432e-01 -5.39959415e-01]\n",
      " [ 5.33618503e-01  1.11631280e+00]\n",
      " [-1.32861435e-01  3.02343489e-01]\n",
      " [-2.90496991e-01  8.08089066e-01]\n",
      " [ 8.55570565e-01 -1.29022391e-01]\n",
      " [ 6.88371652e-01  1.71544376e+00]\n",
      " [-7.19572387e-01 -2.20706627e+00]\n",
      " [ 3.41534033e-01  4.35054321e-01]\n",
      " [ 8.59854946e-01  2.03652405e+00]\n",
      " [ 8.17369954e-01  1.94401318e+00]\n",
      " [ 1.63466107e-01 -5.67376304e-01]\n",
      " [ 3.27979510e-01 -9.04223047e-01]\n",
      " [ 1.09101199e+00  1.77260811e+00]\n",
      " [-7.93948859e-01 -3.81180928e+00]\n",
      " [-1.26787248e+00 -1.74778269e+00]\n",
      " [-1.37619004e+00 -1.55017467e+00]\n",
      " [ 2.81388613e+00  6.03151912e+00]\n",
      " [ 9.05995326e-02  2.56736581e+00]\n",
      " [ 8.90561967e-01  2.02812028e-01]\n",
      " [ 2.05045627e+00  4.39542104e+00]\n",
      " [ 1.65070370e+00  4.15011809e+00]\n",
      " [-2.57288282e-03 -3.39005109e-01]\n",
      " [-9.32267600e-01 -3.39969892e-01]\n",
      " [-4.97766658e-01 -1.17936925e+00]\n",
      " [-2.83490787e-01  1.33429965e+00]\n",
      " [ 3.58560517e-01 -5.61047342e-01]\n",
      " [ 8.03032647e-01  1.20986161e+00]\n",
      " [-4.26502973e-01 -2.22030027e-01]\n",
      " [ 3.48464179e-01  1.95705366e+00]\n",
      " [ 4.66059518e-01 -6.79589356e-01]\n",
      " [-1.23294063e-01 -4.23105904e-01]\n",
      " [-1.23663760e+00 -3.70722817e+00]\n",
      " [-2.59588094e+00 -4.33224979e+00]\n",
      " [-5.23767992e-02 -5.80675479e-01]\n",
      " [ 1.31411717e+00  2.22815311e+00]\n",
      " [ 1.08304664e-02 -1.24518261e-01]\n",
      " [-3.78956356e-03 -6.89653522e-01]\n",
      " [-3.22924274e-01 -6.27535597e-01]\n",
      " [ 1.40259460e+00  3.83255552e+00]\n",
      " [-5.05764829e-01 -1.32616894e+00]\n",
      " [-1.90387309e+00 -3.08054280e+00]\n",
      " [ 1.32368059e-01 -1.22897960e-01]\n",
      " [-5.31543376e-02  3.50157004e-01]\n",
      " [-1.13621677e+00 -4.11509397e+00]\n",
      " [ 6.66368918e-02 -3.26220957e-02]\n",
      " [-1.23104540e+00 -2.17969759e+00]\n",
      " [ 2.80747122e-02  6.82695980e-01]\n",
      " [-2.32756164e-01  1.48991659e-01]\n",
      " [ 2.22929354e+00  4.48629253e+00]\n",
      " [-6.62450303e-01 -1.05636335e+00]\n",
      " [ 7.73782897e-01 -3.64498699e-01]\n",
      " [-1.14526127e+00 -3.59706243e+00]\n",
      " [ 3.68256796e-01 -4.92188696e-01]\n",
      " [-1.04901835e+00 -3.42644544e+00]\n",
      " [ 9.04239333e-01  2.57707918e+00]\n",
      " [-1.06454610e+00 -2.61648757e+00]\n",
      " [-1.67548273e+00 -4.40589483e+00]\n",
      " [ 1.82377427e-01 -5.76465318e-02]\n",
      " [ 1.18553988e+00  2.43408852e+00]\n",
      " [-8.84431240e-01 -1.19007711e+00]\n",
      " [-1.18307904e+00 -6.18852766e-01]\n",
      " [-1.62016163e-01 -9.46136080e-01]\n",
      " [-7.32813934e-01 -1.14135691e+00]\n",
      " [ 2.42610615e-01  2.01270115e+00]\n",
      " [ 1.51036394e-01  4.47758155e-02]\n",
      " [-1.20523403e+00 -3.36604067e+00]\n",
      " [ 6.67904379e-03 -2.28846623e+00]\n",
      " [-1.09486562e+00 -1.99444446e+00]\n",
      " [ 1.37418472e+00  1.43029660e+00]\n",
      " [ 1.44497979e+00  3.47495007e+00]\n",
      " [-1.39262427e+00 -2.19866616e+00]\n",
      " [ 1.15820901e+00  5.18196097e-01]\n",
      " [ 8.63810673e-01  3.30209067e+00]\n",
      " [ 1.78758080e+00  3.46754957e+00]\n",
      " [-2.02593315e+00 -3.65599739e+00]\n",
      " [ 5.89359262e-02  1.56322271e+00]\n",
      " [-4.52850405e-01  8.87418218e-02]\n",
      " [ 4.93379650e-01  2.16364998e+00]\n",
      " [-2.06912718e+00 -3.41614059e+00]\n",
      " [-3.70677602e-01 -6.24498923e-01]\n",
      " [ 5.21290094e-02 -3.52948775e-02]\n",
      " [ 1.96047576e+00  4.53766977e+00]\n",
      " [-1.01466278e+00 -2.92624526e+00]\n",
      " [-3.45320255e-01  3.33104386e-01]\n",
      " [-5.99091171e-01 -8.72994020e-01]\n",
      " [-1.94479466e-01 -1.47840414e+00]]\n"
     ]
    }
   ],
   "source": [
    "mean = [0,0]\n",
    "cov = [[1,2],\n",
    "       [2, 5]]\n",
    "x = rng.multivariate_normal(mean, cov, 100)\n",
    "x.shape\n",
    "print(x)"
   ]
  },
  {
   "cell_type": "code",
   "execution_count": 230,
   "id": "fa359714",
   "metadata": {},
   "outputs": [
    {
     "data": {
      "image/png": "[encoded data removed]",
      "text/plain": [
       "<Figure size 640x480 with 1 Axes>"
      ]
     },
     "metadata": {},
     "output_type": "display_data"
    }
   ],
   "source": [
    "import matplotlib.pyplot as plt\n",
    "plt.scatter(x[:,0], x[:,1])\n",
    "plt.show()"
   ]
  },
  {
   "cell_type": "markdown",
   "id": "f79bea54",
   "metadata": {},
   "source": [
    "Let's use fancy indexing to select 20 random points. We'll do this by first choosing 20 random indices with no repeats, and using indices to select a portion of the original array:"
   ]
  },
  {
   "cell_type": "code",
   "execution_count": 231,
   "id": "1b9bf87b",
   "metadata": {},
   "outputs": [
    {
     "data": {
      "text/plain": [
       "array([15, 96, 87, 93, 49, 54, 97, 83, 13, 82, 42, 86, 25, 65,  2, 29, 85,\n",
       "       56, 17, 72])"
      ]
     },
     "execution_count": 231,
     "metadata": {},
     "output_type": "execute_result"
    }
   ],
   "source": [
    "indices = np.random.choice(x.shape[0], 20, replace = False)\n",
    "indices"
   ]
  },
  {
   "cell_type": "code",
   "execution_count": 232,
   "id": "05be609b",
   "metadata": {},
   "outputs": [
    {
     "data": {
      "text/plain": [
       "(20, 2)"
      ]
     },
     "execution_count": 232,
     "metadata": {},
     "output_type": "execute_result"
    }
   ],
   "source": [
    "selection = x[indices]\n",
    "selection.shape"
   ]
  },
  {
   "cell_type": "code",
   "execution_count": 233,
   "id": "8f1cbf02",
   "metadata": {},
   "outputs": [
    {
     "data": {
      "text/plain": [
       "<matplotlib.collections.PathCollection at 0x16b72aab0>"
      ]
     },
     "execution_count": 233,
     "metadata": {},
     "output_type": "execute_result"
    },
    {
     "data": {
      "image/png": "[encoded data removed]",
      "text/plain": [
       "<Figure size 640x480 with 1 Axes>"
      ]
     },
     "metadata": {},
     "output_type": "display_data"
    }
   ],
   "source": [
    "plt.scatter(x[:,0], x[:,1], alpha = 0.3)\n",
    "plt.scatter(selection[:,0], selection[:,1],\n",
    "            facecolor='none', edgecolors='black', s = 200)"
   ]
  },
  {
   "cell_type": "markdown",
   "id": "6380179b",
   "metadata": {},
   "source": [
    "## Modifying Values with Fancy Indexing"
   ]
  },
  {
   "cell_type": "markdown",
   "id": "e463ebf8",
   "metadata": {},
   "source": [
    "Just as fancy indexing can be used to access part of an array, it can aslo be used to modify parts of an array. For example, image we have an array of indices and we'd like to set the corresponding items in an array to some value:"
   ]
  },
  {
   "cell_type": "code",
   "execution_count": 234,
   "id": "991a13e8",
   "metadata": {},
   "outputs": [
    {
     "name": "stdout",
     "output_type": "stream",
     "text": [
      "[ 0 99 99  3 99  5  6  7 99  9]\n"
     ]
    }
   ],
   "source": [
    "x = np.arange(10)\n",
    "i = np.array([2,1,8,4])\n",
    "x[i] = 99\n",
    "print(x)"
   ]
  },
  {
   "cell_type": "code",
   "execution_count": 235,
   "id": "f35330d4",
   "metadata": {},
   "outputs": [
    {
     "name": "stdout",
     "output_type": "stream",
     "text": [
      "[ 0 89 89  3 89  5  6  7 89  9]\n"
     ]
    }
   ],
   "source": [
    "x[i] -= 10\n",
    "print(x)"
   ]
  },
  {
   "cell_type": "markdown",
   "id": "c3b5dc42",
   "metadata": {},
   "source": [
    "Notice, though, that repeated indices with these operations can cause soome potentiallu unexpected results. Consider the following:"
   ]
  },
  {
   "cell_type": "code",
   "execution_count": 236,
   "id": "478158f8",
   "metadata": {},
   "outputs": [
    {
     "data": {
      "text/plain": [
       "array([6., 0., 0., 0., 0., 0., 0., 0., 0., 0.])"
      ]
     },
     "execution_count": 236,
     "metadata": {},
     "output_type": "execute_result"
    }
   ],
   "source": [
    "x = np.zeros(10)\n",
    "x[[0,0]] = [4,6]\n",
    "x"
   ]
  },
  {
   "cell_type": "markdown",
   "id": "8fa66b3a",
   "metadata": {},
   "source": [
    "where did the 4 go? This operation first assigns x[0] = 4, followed by x[0] = 6. The result, of course, is that x[0] contains the value 6."
   ]
  },
  {
   "cell_type": "code",
   "execution_count": 237,
   "id": "2be57932",
   "metadata": {},
   "outputs": [
    {
     "data": {
      "text/plain": [
       "array([6., 0., 1., 1., 1., 0., 0., 0., 0., 0.])"
      ]
     },
     "execution_count": 237,
     "metadata": {},
     "output_type": "execute_result"
    }
   ],
   "source": [
    "i = [2,3,3,4,4,4]\n",
    "x[i] += 1\n",
    "x"
   ]
  },
  {
   "cell_type": "markdown",
   "id": "08440466",
   "metadata": {},
   "source": [
    "You might expect that x[3] would contain the value 2 and x[4] would contain the value 3, as this is how many times each index is repeated. Why is this not the case? Conceptually, this is because x[i] += 1 is mean as a shorthand of x[i] = x[i]+1. x[i] + 1 is evaluated, and then the result is assigned to the indices in x. With this in mind, it is not the augmentation that happens multiple times, but the assignment, which leads to the rather nonintuitive results.\n",
    "<br><br>\n",
    "So what if you want the other behavior where the operation is replaced? For this you can use the at method of ufcs and do the following:"
   ]
  },
  {
   "cell_type": "code",
   "execution_count": 238,
   "id": "e511f7b3",
   "metadata": {},
   "outputs": [
    {
     "name": "stdout",
     "output_type": "stream",
     "text": [
      "[0. 0. 1. 2. 3. 0. 0. 0. 0. 0.]\n"
     ]
    }
   ],
   "source": [
    "x = np.zeros(10)\n",
    "np.add.at(x, i, 1)\n",
    "print(x)"
   ]
  },
  {
   "cell_type": "markdown",
   "id": "2483095b",
   "metadata": {},
   "source": [
    "The method does an in-place application of the given operator at the specifed indices (here, i) with the specified value (here, 1). Another method that is similar tin sprit is the <b> reduceat</b> method of ufuncs, where you can read about in the NumPy documentation."
   ]
  },
  {
   "cell_type": "markdown",
   "id": "5d953b51",
   "metadata": {},
   "source": [
    "## Example Binning Data"
   ]
  },
  {
   "cell_type": "markdown",
   "id": "480e65b8",
   "metadata": {},
   "source": [
    "You could use these ideas to efficently do custom binned computations on data. For example, imagine we have 100 values and would like to quickly find where they fall whithin an array of bins. We could compute this using ufuc.at like this:"
   ]
  },
  {
   "cell_type": "code",
   "execution_count": 240,
   "id": "8cdd04fc",
   "metadata": {},
   "outputs": [],
   "source": [
    "rng = np.random.default_rng(seed = 1701)\n",
    "x = rng.normal(size = 100)\n",
    "\n",
    "#compute a histogram by hand\n",
    "bins = np.linspace(-5, 5, 20)\n",
    "counts = np.zeros_like(bins)\n",
    "\n",
    "#find the apropriate bin for each x\n",
    "i = np.searchsorted(bins, x)\n",
    "\n",
    "#add 1 to each of this bins\n",
    "np.add.at(counts, i, 1)"
   ]
  },
  {
   "cell_type": "markdown",
   "id": "565840ad",
   "metadata": {},
   "source": [
    "The counts now reflect the number of point within each bin-in other words, a histogram:"
   ]
  },
  {
   "cell_type": "code",
   "execution_count": 241,
   "id": "1d3faf2f",
   "metadata": {},
   "outputs": [
    {
     "data": {
      "text/plain": [
       "[<matplotlib.lines.Line2D at 0x16b7250d0>]"
      ]
     },
     "execution_count": 241,
     "metadata": {},
     "output_type": "execute_result"
    },
    {
     "data": {
      "image/png": "[encoded data removed]",
      "text/plain": [
       "<Figure size 640x480 with 1 Axes>"
      ]
     },
     "metadata": {},
     "output_type": "display_data"
    }
   ],
   "source": [
    "plt.plot(bins, counts, drawstyle='steps')"
   ]
  },
  {
   "cell_type": "code",
   "execution_count": 244,
   "id": "e64ae3b8",
   "metadata": {},
   "outputs": [
    {
     "name": "stdout",
     "output_type": "stream",
     "text": [
      "NumPy histogram (100 points):\n",
      "7.5 μs ± 249 ns per loop (mean ± std. dev. of 7 runs, 100,000 loops each)\n",
      "Custom histogram (100 points):\n",
      "8.22 μs ± 24.4 ns per loop (mean ± std. dev. of 7 runs, 100,000 loops each)\n"
     ]
    }
   ],
   "source": [
    "print(f\"NumPy histogram ({len(x)} points):\")\n",
    "%timeit counts, edges = np.histogram(x, bins)\n",
    "\n",
    "print(f\"Custom histogram ({len(x)} points):\")\n",
    "%timeit np.add.at(counts, np.searchsorted(bins, x), 1)"
   ]
  },
  {
   "cell_type": "markdown",
   "id": "c6116fc0",
   "metadata": {},
   "source": [
    "# <b> PART 7: Sorting Arrays"
   ]
  },
  {
   "cell_type": "markdown",
   "id": "fd43254c",
   "metadata": {},
   "source": [
    "Python has a couple of build-in functions and methods for sorting lists and other iterable objects. The sorted function accepts a list and returns a sorted version of it:"
   ]
  },
  {
   "cell_type": "code",
   "execution_count": 245,
   "id": "672ce5cc",
   "metadata": {},
   "outputs": [
    {
     "data": {
      "text/plain": [
       "[1, 1, 2, 3, 4, 5, 6, 9]"
      ]
     },
     "execution_count": 245,
     "metadata": {},
     "output_type": "execute_result"
    }
   ],
   "source": [
    "L = [3,1,4,1,5,9,2,6]\n",
    "sorted(L)"
   ]
  },
  {
   "cell_type": "code",
   "execution_count": 247,
   "id": "8d97be37",
   "metadata": {},
   "outputs": [
    {
     "name": "stdout",
     "output_type": "stream",
     "text": [
      "[1, 1, 2, 3, 4, 5, 6, 9]\n"
     ]
    }
   ],
   "source": [
    "L.sort() #inplace = True\n",
    "print(L)"
   ]
  },
  {
   "cell_type": "code",
   "execution_count": 248,
   "id": "6aa0a673",
   "metadata": {},
   "outputs": [
    {
     "data": {
      "text/plain": [
       "['h', 'n', 'o', 'p', 't', 'y']"
      ]
     },
     "execution_count": 248,
     "metadata": {},
     "output_type": "execute_result"
    }
   ],
   "source": [
    "sorted('python')"
   ]
  },
  {
   "cell_type": "markdown",
   "id": "ba16c944",
   "metadata": {},
   "source": [
    "## Fast Sorting in NumPy: np.sort"
   ]
  },
  {
   "cell_type": "code",
   "execution_count": 249,
   "id": "92088ccf",
   "metadata": {},
   "outputs": [
    {
     "data": {
      "text/plain": [
       "array([1, 2, 3, 4, 5])"
      ]
     },
     "execution_count": 249,
     "metadata": {},
     "output_type": "execute_result"
    }
   ],
   "source": [
    "import numpy as np\n",
    "\n",
    "x = np.array([2,1,4,3,5])\n",
    "np.sort(x)"
   ]
  },
  {
   "cell_type": "code",
   "execution_count": 250,
   "id": "1625e11b",
   "metadata": {},
   "outputs": [
    {
     "name": "stdout",
     "output_type": "stream",
     "text": [
      "[1 2 3 4 5]\n"
     ]
    }
   ],
   "source": [
    "x.sort()\n",
    "print(x)"
   ]
  },
  {
   "cell_type": "code",
   "execution_count": 252,
   "id": "239d55d4",
   "metadata": {},
   "outputs": [
    {
     "name": "stdout",
     "output_type": "stream",
     "text": [
      "[1 0 3 2 4]\n"
     ]
    }
   ],
   "source": [
    "x = np.array([2,1,4,3,5])\n",
    "i = np.argsort(x) # return sorted indices\n",
    "print(i)"
   ]
  },
  {
   "cell_type": "code",
   "execution_count": 253,
   "id": "5036113d",
   "metadata": {},
   "outputs": [
    {
     "data": {
      "text/plain": [
       "array([1, 2, 3, 4, 5])"
      ]
     },
     "execution_count": 253,
     "metadata": {},
     "output_type": "execute_result"
    }
   ],
   "source": [
    "x[i]"
   ]
  },
  {
   "cell_type": "markdown",
   "id": "fed37d2f",
   "metadata": {},
   "source": [
    "## Sorting Along Rows or Columns"
   ]
  },
  {
   "cell_type": "code",
   "execution_count": null,
   "id": "d80bc016",
   "metadata": {},
   "outputs": [
    {
     "name": "stdout",
     "output_type": "stream",
     "text": [
      "[[0 7 6 4 4 8]\n",
      " [0 6 2 0 5 9]\n",
      " [7 7 7 7 5 1]\n",
      " [8 4 5 3 1 9]]\n"
     ]
    }
   ],
   "source": [
    "rng = np.random.default_rng(seed = 42)\n",
    "x = rng.integers(0, 10, (4,6))\n",
    "print(x)"
   ]
  },
  {
   "cell_type": "code",
   "execution_count": 255,
   "id": "4ae3fbf6",
   "metadata": {},
   "outputs": [
    {
     "data": {
      "text/plain": [
       "array([[0, 4, 2, 0, 1, 1],\n",
       "       [0, 6, 5, 3, 4, 8],\n",
       "       [7, 7, 6, 4, 5, 9],\n",
       "       [8, 7, 7, 7, 5, 9]])"
      ]
     },
     "execution_count": 255,
     "metadata": {},
     "output_type": "execute_result"
    }
   ],
   "source": [
    "# sort each column of x\n",
    "np.sort(x, axis = 0)"
   ]
  },
  {
   "cell_type": "code",
   "execution_count": 256,
   "id": "56dcc2b8",
   "metadata": {},
   "outputs": [
    {
     "data": {
      "text/plain": [
       "array([[0, 4, 4, 6, 7, 8],\n",
       "       [0, 0, 2, 5, 6, 9],\n",
       "       [1, 5, 7, 7, 7, 7],\n",
       "       [1, 3, 4, 5, 8, 9]])"
      ]
     },
     "execution_count": 256,
     "metadata": {},
     "output_type": "execute_result"
    }
   ],
   "source": [
    "# sort each row of x\n",
    "np.sort(x, axis = 1)"
   ]
  },
  {
   "cell_type": "markdown",
   "id": "d8c729bc",
   "metadata": {},
   "source": [
    "## Partical Sorts: Partioning"
   ]
  },
  {
   "cell_type": "code",
   "execution_count": 259,
   "id": "52fb9d2b",
   "metadata": {},
   "outputs": [
    {
     "data": {
      "text/plain": [
       "array([2, 1, 3, 4, 6, 5, 7])"
      ]
     },
     "execution_count": 259,
     "metadata": {},
     "output_type": "execute_result"
    }
   ],
   "source": [
    "x = np.array([7,2,3,1,6,5,4])\n",
    "np.partition(x,3)"
   ]
  },
  {
   "cell_type": "code",
   "execution_count": 279,
   "id": "e15875bd",
   "metadata": {},
   "outputs": [
    {
     "name": "stdout",
     "output_type": "stream",
     "text": [
      "[[3 0 1 0 7 7]\n",
      " [6 4 7 1 9 5]\n",
      " [9 1 4 6 4 4]\n",
      " [1 3 2 3 6 6]] \n",
      "\n",
      "[[0 0 1 3 7 7]\n",
      " [1 4 5 6 9 7]\n",
      " [1 4 4 6 9 4]\n",
      " [1 2 3 3 6 6]]\n"
     ]
    },
    {
     "data": {
      "text/plain": [
       "array([[1, 0, 1, 0, 4, 4],\n",
       "       [3, 1, 2, 1, 6, 5],\n",
       "       [6, 3, 4, 3, 7, 6],\n",
       "       [9, 4, 7, 6, 9, 7]])"
      ]
     },
     "execution_count": 279,
     "metadata": {},
     "output_type": "execute_result"
    }
   ],
   "source": [
    "x = rng.integers(0, 10, (4,6))\n",
    "print(x, '\\n')\n",
    "print(np.partition(x,2, axis = 1))\n",
    "np.partition(x,2,axis=0)"
   ]
  },
  {
   "cell_type": "markdown",
   "id": "7e06a0f5",
   "metadata": {},
   "source": [
    "## Example: K-Nearest Neighbour"
   ]
  },
  {
   "cell_type": "markdown",
   "id": "33d5a592",
   "metadata": {},
   "source": [
    "Lets' quickly see how we might use the argsort funchtion along multiple axes to find the nearest neighbours of each point in a set. We'll start by creating a random set of points on a two-dimensional plane. using the standard convention, we'll arrange these a 10x2 array:"
   ]
  },
  {
   "cell_type": "code",
   "execution_count": 280,
   "id": "8c71cd54",
   "metadata": {},
   "outputs": [
    {
     "data": {
      "text/plain": [
       "array([[0.36181261, 0.08764992],\n",
       "       [0.1180059 , 0.96189766],\n",
       "       [0.90858069, 0.69970713],\n",
       "       [0.26586996, 0.96917638],\n",
       "       [0.7787509 , 0.71689019],\n",
       "       [0.4493615 , 0.27224156],\n",
       "       [0.09639096, 0.9026024 ],\n",
       "       [0.45577629, 0.20236336],\n",
       "       [0.30595662, 0.57921957],\n",
       "       [0.17677278, 0.85661428]])"
      ]
     },
     "execution_count": 280,
     "metadata": {},
     "output_type": "execute_result"
    }
   ],
   "source": [
    "x = rng.random((10,2))\n",
    "x"
   ]
  },
  {
   "cell_type": "code",
   "execution_count": 297,
   "id": "6dc9d345",
   "metadata": {},
   "outputs": [
    {
     "data": {
      "image/png": "[encoded data removed]",
      "text/plain": [
       "<Figure size 640x480 with 1 Axes>"
      ]
     },
     "metadata": {},
     "output_type": "display_data"
    }
   ],
   "source": [
    "plt.rcParams['axes.facecolor'] = 'darkgray'\n",
    "plt.rcParams['figure.facecolor'] = 'beige'\n",
    "plt.scatter(x[:,0], x[:,1], s = 100, color = 'black')\n",
    "plt.grid(True, alpha = .5, color='white')"
   ]
  },
  {
   "cell_type": "markdown",
   "id": "e1f53775",
   "metadata": {},
   "source": [
    "Now we'll compute the distance between each pair of points. Recall that the squared distance between two points is the sum of the squared diffeerence in each dimensions; using the effective broadcasting and aggregation routes provided by NumPy we can compute the matrix of square distance in a single line of code:"
   ]
  },
  {
   "cell_type": "code",
   "execution_count": 298,
   "id": "424103b2",
   "metadata": {},
   "outputs": [],
   "source": [
    "dist_sq = np.sum((x[:, np.newaxis] - x[np.newaxis, :]) ** 2, axis = -1)"
   ]
  },
  {
   "cell_type": "markdown",
   "id": "1e47386c",
   "metadata": {},
   "source": [
    "This operation has a lot packed into it, and it mignt be a bit confusing if you'are unfamiliar with NumPy's bradcasting rules. When you come across code like this, it can be usefull to break it doen into its componenent steps:"
   ]
  },
  {
   "cell_type": "code",
   "execution_count": 299,
   "id": "7d37ceb4",
   "metadata": {},
   "outputs": [
    {
     "data": {
      "text/plain": [
       "(10, 10, 2)"
      ]
     },
     "execution_count": 299,
     "metadata": {},
     "output_type": "execute_result"
    }
   ],
   "source": [
    "# for each pair of points, compute difference in their coordinates\n",
    "differences = x[:, np.newaxis] - x[np.newaxis, :]\n",
    "differences.shape"
   ]
  },
  {
   "cell_type": "code",
   "execution_count": 300,
   "id": "5dff0315",
   "metadata": {},
   "outputs": [
    {
     "data": {
      "text/plain": [
       "(10, 10, 2)"
      ]
     },
     "execution_count": 300,
     "metadata": {},
     "output_type": "execute_result"
    }
   ],
   "source": [
    "#square the coordinate differences\n",
    "sq_differences = differences ** 2\n",
    "sq_differences.shape"
   ]
  },
  {
   "cell_type": "code",
   "execution_count": 302,
   "id": "259b540c",
   "metadata": {},
   "outputs": [
    {
     "data": {
      "text/plain": [
       "(10, 10)"
      ]
     },
     "execution_count": 302,
     "metadata": {},
     "output_type": "execute_result"
    }
   ],
   "source": [
    "#sum the coordinate difference to get the squared distance\n",
    "dist_sq = sq_differences.sum(-1)\n",
    "dist_sq.shape"
   ]
  },
  {
   "cell_type": "code",
   "execution_count": 303,
   "id": "9959626c",
   "metadata": {},
   "outputs": [
    {
     "data": {
      "text/plain": [
       "array([0., 0., 0., 0., 0., 0., 0., 0., 0., 0.])"
      ]
     },
     "execution_count": 303,
     "metadata": {},
     "output_type": "execute_result"
    }
   ],
   "source": [
    "dist_sq.diagonal()"
   ]
  },
  {
   "cell_type": "code",
   "execution_count": 304,
   "id": "e2cc8cd7",
   "metadata": {},
   "outputs": [
    {
     "name": "stdout",
     "output_type": "stream",
     "text": [
      "[[0 7 5 8 4 9 2 6 3 1]\n",
      " [1 6 9 3 8 4 5 7 2 0]\n",
      " [2 4 8 5 7 3 9 0 1 6]\n",
      " [3 9 1 6 8 4 2 5 7 0]\n",
      " [4 2 8 5 3 7 9 1 6 0]\n",
      " [5 7 0 8 4 2 9 3 6 1]\n",
      " [6 1 9 3 8 4 5 7 2 0]\n",
      " [7 5 0 8 4 2 9 6 3 1]\n",
      " [8 9 5 6 3 7 1 4 0 2]\n",
      " [9 6 1 3 8 4 5 7 2 0]]\n"
     ]
    }
   ],
   "source": [
    "nearest = np.argsort(dist_sq, axis=1)\n",
    "print(nearest)"
   ]
  },
  {
   "cell_type": "code",
   "execution_count": 305,
   "id": "922c07a2",
   "metadata": {},
   "outputs": [],
   "source": [
    "k = 2\n",
    "nearest_partision = np.argpartition(dist_sq, k + 1, axis = 1)"
   ]
  },
  {
   "cell_type": "code",
   "execution_count": 318,
   "id": "9927b8d4",
   "metadata": {},
   "outputs": [
    {
     "data": {
      "image/png": "[encoded data removed]",
      "text/plain": [
       "<Figure size 640x480 with 1 Axes>"
      ]
     },
     "metadata": {},
     "output_type": "display_data"
    }
   ],
   "source": [
    "plt.scatter(x[:, 0], x[:, 1], s=100, color = 'black')\n",
    "plt.grid(True, color = 'black')\n",
    "\n",
    "#draw lines form eatch point to its two nearest neighbars\n",
    "k = 2\n",
    "for i in range(x.shape[0]):\n",
    "    for j in nearest_partision[i, :k+1]:\n",
    "        # plot a line from x[i] to x[j]\n",
    "        # use same zip magic to make it hapen:\n",
    "        plt.plot(*zip(x[i], x[j]), color = 'black')"
   ]
  },
  {
   "cell_type": "markdown",
   "id": "1f690c3d",
   "metadata": {},
   "source": [
    "# <b> PART 8: Structured Data: NumPy's Structured Arrays"
   ]
  },
  {
   "cell_type": "code",
   "execution_count": 319,
   "id": "cdd2bfe6",
   "metadata": {},
   "outputs": [],
   "source": [
    "import numpy as np"
   ]
  },
  {
   "cell_type": "code",
   "execution_count": 320,
   "id": "ed4d6f78",
   "metadata": {},
   "outputs": [],
   "source": [
    "name = ['Alice', 'Bob', 'Cathy', 'Doug']\n",
    "age = [25, 54, 17, 17]\n",
    "weight = [55.0, 85.5, 68.0, 61.5]"
   ]
  },
  {
   "cell_type": "code",
   "execution_count": 321,
   "id": "ae64d6f7",
   "metadata": {},
   "outputs": [],
   "source": [
    "x = np.zeros(4, dtype = int)"
   ]
  },
  {
   "cell_type": "code",
   "execution_count": 325,
   "id": "c4d557be",
   "metadata": {},
   "outputs": [
    {
     "name": "stdout",
     "output_type": "stream",
     "text": [
      "[('name', '<U10'), ('age', '<i4'), ('weight', '<f8')]\n"
     ]
    }
   ],
   "source": [
    "data = np.zeros(4, dtype={'names':('name', 'age', 'weight'),\n",
    "                          'formats':('U10','i4', 'f8')})\n",
    "print(data.dtype)"
   ]
  },
  {
   "cell_type": "markdown",
   "id": "d8a624c9",
   "metadata": {},
   "source": [
    "here \n",
    "<br>U10 -> translate to Unicode string of maximum lenght of 10, \n",
    "<br>i4 -> 4bytes int 32bit, \n",
    "<br>f8 -> 8byte float(64-bit)."
   ]
  },
  {
   "cell_type": "code",
   "execution_count": 326,
   "id": "74a222ed",
   "metadata": {},
   "outputs": [
    {
     "name": "stdout",
     "output_type": "stream",
     "text": [
      "[('Alice', 25, 55. ) ('Bob', 54, 85.5) ('Cathy', 17, 68. )\n",
      " ('Doug', 17, 61.5)]\n"
     ]
    }
   ],
   "source": [
    "data['name'] = name\n",
    "data['age'] = age\n",
    "data['weight'] = weight\n",
    "print(data)"
   ]
  },
  {
   "cell_type": "code",
   "execution_count": 327,
   "id": "2fa74c25",
   "metadata": {},
   "outputs": [
    {
     "data": {
      "text/plain": [
       "array(['Alice', 'Bob', 'Cathy', 'Doug'], dtype='<U10')"
      ]
     },
     "execution_count": 327,
     "metadata": {},
     "output_type": "execute_result"
    }
   ],
   "source": [
    "#Get all names\n",
    "data['name']"
   ]
  },
  {
   "cell_type": "code",
   "execution_count": 328,
   "id": "2dd35520",
   "metadata": {},
   "outputs": [
    {
     "data": {
      "text/plain": [
       "('Alice', 25, 55.)"
      ]
     },
     "execution_count": 328,
     "metadata": {},
     "output_type": "execute_result"
    }
   ],
   "source": [
    "#get first row of data\n",
    "data[0]"
   ]
  },
  {
   "cell_type": "code",
   "execution_count": 330,
   "id": "cdf70477",
   "metadata": {},
   "outputs": [
    {
     "data": {
      "text/plain": [
       "'Doug'"
      ]
     },
     "execution_count": 330,
     "metadata": {},
     "output_type": "execute_result"
    }
   ],
   "source": [
    "#get the name from the last row\n",
    "data[-1]['name']"
   ]
  },
  {
   "cell_type": "code",
   "execution_count": 331,
   "id": "d92a70dc",
   "metadata": {},
   "outputs": [
    {
     "data": {
      "text/plain": [
       "array(['Alice', 'Cathy', 'Doug'], dtype='<U10')"
      ]
     },
     "execution_count": 331,
     "metadata": {},
     "output_type": "execute_result"
    }
   ],
   "source": [
    "#get names where age is under 30\n",
    "data[data['age']<30]['name']"
   ]
  },
  {
   "cell_type": "markdown",
   "id": "3342e0be",
   "metadata": {},
   "source": [
    "## Exploring Structured Array Creating"
   ]
  },
  {
   "cell_type": "code",
   "execution_count": 333,
   "id": "a19bbf18",
   "metadata": {},
   "outputs": [
    {
     "data": {
      "text/plain": [
       "dtype([('name', '<U10'), ('age', '<i8'), ('weight', '<f4')])"
      ]
     },
     "execution_count": 333,
     "metadata": {},
     "output_type": "execute_result"
    }
   ],
   "source": [
    "np.dtype({'names': ('name', 'age', 'weight'),\n",
    "          'formats':((np.str_,10), int, np.float32)})"
   ]
  },
  {
   "cell_type": "code",
   "execution_count": 334,
   "id": "1bb7705f",
   "metadata": {},
   "outputs": [
    {
     "data": {
      "text/plain": [
       "dtype([('name', 'S10'), ('age', '<i4'), ('weight', '<f8')])"
      ]
     },
     "execution_count": 334,
     "metadata": {},
     "output_type": "execute_result"
    }
   ],
   "source": [
    "np.dtype([('name', 'S10'), ('age', 'i4'), ('weight', 'f8')])"
   ]
  },
  {
   "cell_type": "code",
   "execution_count": 335,
   "id": "035488aa",
   "metadata": {},
   "outputs": [
    {
     "data": {
      "text/plain": [
       "dtype([('f0', 'S10'), ('f1', '<i4'), ('f2', '<f8')])"
      ]
     },
     "execution_count": 335,
     "metadata": {},
     "output_type": "execute_result"
    }
   ],
   "source": [
    "np.dtype('S10,i4,f8')"
   ]
  },
  {
   "cell_type": "markdown",
   "id": "78ebaf13",
   "metadata": {},
   "source": [
    "<h3><em>Table: NumPy data types</em></h3>\n",
    "\n",
    "<style>\n",
    "  table.numpy-dtypes {\n",
    "    border-collapse: collapse;\n",
    "    font-family: monospace;\n",
    "    background-color: #1e1e1e;\n",
    "    color: white;\n",
    "    width: 100%;\n",
    "    margin-bottom: 20px;\n",
    "  }\n",
    "  table.numpy-dtypes th, table.numpy-dtypes td {\n",
    "    border: 1px solid #444;\n",
    "    padding: 8px 12px;\n",
    "    text-align: left;\n",
    "  }\n",
    "  table.numpy-dtypes th {\n",
    "    background-color: #000;\n",
    "  }\n",
    "</style>\n",
    "\n",
    "<table class=\"numpy-dtypes\">\n",
    "  <thead>\n",
    "    <tr>\n",
    "      <th>Character</th>\n",
    "      <th>Description</th>\n",
    "      <th>Example</th>\n",
    "    </tr>\n",
    "  </thead>\n",
    "  <tbody>\n",
    "    <tr>\n",
    "      <td>'b'</td>\n",
    "      <td>Byte</td>\n",
    "      <td>np.dtype('b')</td>\n",
    "    </tr>\n",
    "    <tr>\n",
    "      <td>'i'</td>\n",
    "      <td>Signed integer</td>\n",
    "      <td>np.dtype('i4') == np.int32</td>\n",
    "    </tr>\n",
    "    <tr>\n",
    "      <td>'u'</td>\n",
    "      <td>Unsigned integer</td>\n",
    "      <td>np.dtype('u1') == np.uint8</td>\n",
    "    </tr>\n",
    "    <tr>\n",
    "      <td>'f'</td>\n",
    "      <td>Floating point</td>\n",
    "      <td>np.dtype('f8') == np.float64</td>\n",
    "    </tr>\n",
    "    <tr>\n",
    "      <td>'c'</td>\n",
    "      <td>Complex floating point</td>\n",
    "      <td>np.dtype('c16') == np.complex128</td>\n",
    "    </tr>\n",
    "    <tr>\n",
    "      <td>'S', 'a'</td>\n",
    "      <td>String</td>\n",
    "      <td>np.dtype('S5')</td>\n",
    "    </tr>\n",
    "    <tr>\n",
    "      <td>'U'</td>\n",
    "      <td>Unicode string</td>\n",
    "      <td>np.dtype('U') == np.str_</td>\n",
    "    </tr>\n",
    "    <tr>\n",
    "      <td>'V'</td>\n",
    "      <td>Raw data (void)</td>\n",
    "      <td>np.dtype('V') == np.void</td>\n",
    "    </tr>\n",
    "  </tbody>\n",
    "</table>\n"
   ]
  },
  {
   "cell_type": "markdown",
   "id": "00fc52fb",
   "metadata": {},
   "source": [
    "## More Advanced Compound Types"
   ]
  },
  {
   "cell_type": "code",
   "execution_count": 336,
   "id": "900fbdb2",
   "metadata": {},
   "outputs": [
    {
     "name": "stdout",
     "output_type": "stream",
     "text": [
      "(0, [[0., 0., 0.], [0., 0., 0.], [0., 0., 0.]])\n",
      "[[0. 0. 0.]\n",
      " [0. 0. 0.]\n",
      " [0. 0. 0.]]\n"
     ]
    }
   ],
   "source": [
    "tp = np.dtype([('id', 'i8'), ('mat', 'f8', (3, 3))])\n",
    "X = np.zeros(1, dtype=tp)\n",
    "print(X[0])\n",
    "print(X['mat'][0])"
   ]
  },
  {
   "cell_type": "markdown",
   "id": "d6e83cbb",
   "metadata": {},
   "source": [
    "## Record Arrays: Structured Arrays with a Twist"
   ]
  },
  {
   "cell_type": "code",
   "execution_count": 337,
   "id": "75861623",
   "metadata": {},
   "outputs": [
    {
     "data": {
      "text/plain": [
       "array([25, 54, 17, 17], dtype=int32)"
      ]
     },
     "execution_count": 337,
     "metadata": {},
     "output_type": "execute_result"
    }
   ],
   "source": [
    "data['age']"
   ]
  },
  {
   "cell_type": "code",
   "execution_count": 338,
   "id": "4e0ea422",
   "metadata": {},
   "outputs": [
    {
     "data": {
      "text/plain": [
       "array([25, 54, 17, 17], dtype=int32)"
      ]
     },
     "execution_count": 338,
     "metadata": {},
     "output_type": "execute_result"
    }
   ],
   "source": [
    "data_rec = data.view(np.recarray)\n",
    "data_rec.age"
   ]
  },
  {
   "cell_type": "code",
   "execution_count": 339,
   "id": "d64bcbd9",
   "metadata": {},
   "outputs": [
    {
     "name": "stdout",
     "output_type": "stream",
     "text": [
      "44.2 ns ± 1.14 ns per loop (mean ± std. dev. of 7 runs, 10,000,000 loops each)\n",
      "629 ns ± 19.4 ns per loop (mean ± std. dev. of 7 runs, 1,000,000 loops each)\n",
      "1.18 μs ± 8.85 ns per loop (mean ± std. dev. of 7 runs, 1,000,000 loops each)\n"
     ]
    }
   ],
   "source": [
    "%timeit data['age']\n",
    "%timeit data_rec['age']\n",
    "%timeit data_rec.age"
   ]
  },
  {
   "cell_type": "code",
   "execution_count": null,
   "id": "7223bdbe",
   "metadata": {},
   "outputs": [],
   "source": []
  }
 ],
 "metadata": {
  "kernelspec": {
   "display_name": "base",
   "language": "python",
   "name": "python3"
  },
  "language_info": {
   "codemirror_mode": {
    "name": "ipython",
    "version": 3
   },
   "file_extension": ".py",
   "mimetype": "text/x-python",
   "name": "python",
   "nbconvert_exporter": "python",
   "pygments_lexer": "ipython3",
   "version": "3.12.7"
  }
 },
 "nbformat": 4,
 "nbformat_minor": 5
}
